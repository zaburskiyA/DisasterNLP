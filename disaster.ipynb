{
 "cells": [
  {
   "cell_type": "markdown",
   "metadata": {},
   "source": [
    "# Disaster tweets classification\n",
    "\n",
    "In this project I will use NLP techniques for tweets classification"
   ]
  },
  {
   "cell_type": "code",
   "execution_count": 230,
   "metadata": {},
   "outputs": [],
   "source": [
    "import pandas as pd\n",
    "import torch\n",
    "import numpy as np\n",
    "import sklearn\n",
    "import bokeh\n",
    "from collections import Counter\n",
    "from torch import nn\n",
    "import torch.nn.functional as F\n",
    "\n",
    "from torch.utils.data import DataLoader, Dataset\n",
    "import torch.optim"
   ]
  },
  {
   "cell_type": "code",
   "execution_count": 231,
   "metadata": {},
   "outputs": [],
   "source": [
    "data_train = pd.read_csv('nlp-getting-started/train.csv')\n",
    "data_test = pd.read_csv('nlp-getting-started/test.csv')"
   ]
  },
  {
   "cell_type": "markdown",
   "metadata": {},
   "source": [
    "### Part 1. Some data analysis"
   ]
  },
  {
   "cell_type": "code",
   "execution_count": 232,
   "metadata": {},
   "outputs": [
    {
     "data": {
      "text/html": [
       "<div>\n",
       "<style scoped>\n",
       "    .dataframe tbody tr th:only-of-type {\n",
       "        vertical-align: middle;\n",
       "    }\n",
       "\n",
       "    .dataframe tbody tr th {\n",
       "        vertical-align: top;\n",
       "    }\n",
       "\n",
       "    .dataframe thead th {\n",
       "        text-align: right;\n",
       "    }\n",
       "</style>\n",
       "<table border=\"1\" class=\"dataframe\">\n",
       "  <thead>\n",
       "    <tr style=\"text-align: right;\">\n",
       "      <th></th>\n",
       "      <th>id</th>\n",
       "      <th>keyword</th>\n",
       "      <th>location</th>\n",
       "      <th>text</th>\n",
       "      <th>target</th>\n",
       "    </tr>\n",
       "  </thead>\n",
       "  <tbody>\n",
       "    <tr>\n",
       "      <th>0</th>\n",
       "      <td>1</td>\n",
       "      <td>NaN</td>\n",
       "      <td>NaN</td>\n",
       "      <td>Our Deeds are the Reason of this #earthquake M...</td>\n",
       "      <td>1</td>\n",
       "    </tr>\n",
       "    <tr>\n",
       "      <th>1</th>\n",
       "      <td>4</td>\n",
       "      <td>NaN</td>\n",
       "      <td>NaN</td>\n",
       "      <td>Forest fire near La Ronge Sask. Canada</td>\n",
       "      <td>1</td>\n",
       "    </tr>\n",
       "    <tr>\n",
       "      <th>2</th>\n",
       "      <td>5</td>\n",
       "      <td>NaN</td>\n",
       "      <td>NaN</td>\n",
       "      <td>All residents asked to 'shelter in place' are ...</td>\n",
       "      <td>1</td>\n",
       "    </tr>\n",
       "    <tr>\n",
       "      <th>3</th>\n",
       "      <td>6</td>\n",
       "      <td>NaN</td>\n",
       "      <td>NaN</td>\n",
       "      <td>13,000 people receive #wildfires evacuation or...</td>\n",
       "      <td>1</td>\n",
       "    </tr>\n",
       "    <tr>\n",
       "      <th>4</th>\n",
       "      <td>7</td>\n",
       "      <td>NaN</td>\n",
       "      <td>NaN</td>\n",
       "      <td>Just got sent this photo from Ruby #Alaska as ...</td>\n",
       "      <td>1</td>\n",
       "    </tr>\n",
       "    <tr>\n",
       "      <th>...</th>\n",
       "      <td>...</td>\n",
       "      <td>...</td>\n",
       "      <td>...</td>\n",
       "      <td>...</td>\n",
       "      <td>...</td>\n",
       "    </tr>\n",
       "    <tr>\n",
       "      <th>7608</th>\n",
       "      <td>10869</td>\n",
       "      <td>NaN</td>\n",
       "      <td>NaN</td>\n",
       "      <td>Two giant cranes holding a bridge collapse int...</td>\n",
       "      <td>1</td>\n",
       "    </tr>\n",
       "    <tr>\n",
       "      <th>7609</th>\n",
       "      <td>10870</td>\n",
       "      <td>NaN</td>\n",
       "      <td>NaN</td>\n",
       "      <td>@aria_ahrary @TheTawniest The out of control w...</td>\n",
       "      <td>1</td>\n",
       "    </tr>\n",
       "    <tr>\n",
       "      <th>7610</th>\n",
       "      <td>10871</td>\n",
       "      <td>NaN</td>\n",
       "      <td>NaN</td>\n",
       "      <td>M1.94 [01:04 UTC]?5km S of Volcano Hawaii. htt...</td>\n",
       "      <td>1</td>\n",
       "    </tr>\n",
       "    <tr>\n",
       "      <th>7611</th>\n",
       "      <td>10872</td>\n",
       "      <td>NaN</td>\n",
       "      <td>NaN</td>\n",
       "      <td>Police investigating after an e-bike collided ...</td>\n",
       "      <td>1</td>\n",
       "    </tr>\n",
       "    <tr>\n",
       "      <th>7612</th>\n",
       "      <td>10873</td>\n",
       "      <td>NaN</td>\n",
       "      <td>NaN</td>\n",
       "      <td>The Latest: More Homes Razed by Northern Calif...</td>\n",
       "      <td>1</td>\n",
       "    </tr>\n",
       "  </tbody>\n",
       "</table>\n",
       "<p>7613 rows × 5 columns</p>\n",
       "</div>"
      ],
      "text/plain": [
       "         id keyword location  \\\n",
       "0         1     NaN      NaN   \n",
       "1         4     NaN      NaN   \n",
       "2         5     NaN      NaN   \n",
       "3         6     NaN      NaN   \n",
       "4         7     NaN      NaN   \n",
       "...     ...     ...      ...   \n",
       "7608  10869     NaN      NaN   \n",
       "7609  10870     NaN      NaN   \n",
       "7610  10871     NaN      NaN   \n",
       "7611  10872     NaN      NaN   \n",
       "7612  10873     NaN      NaN   \n",
       "\n",
       "                                                   text  target  \n",
       "0     Our Deeds are the Reason of this #earthquake M...       1  \n",
       "1                Forest fire near La Ronge Sask. Canada       1  \n",
       "2     All residents asked to 'shelter in place' are ...       1  \n",
       "3     13,000 people receive #wildfires evacuation or...       1  \n",
       "4     Just got sent this photo from Ruby #Alaska as ...       1  \n",
       "...                                                 ...     ...  \n",
       "7608  Two giant cranes holding a bridge collapse int...       1  \n",
       "7609  @aria_ahrary @TheTawniest The out of control w...       1  \n",
       "7610  M1.94 [01:04 UTC]?5km S of Volcano Hawaii. htt...       1  \n",
       "7611  Police investigating after an e-bike collided ...       1  \n",
       "7612  The Latest: More Homes Razed by Northern Calif...       1  \n",
       "\n",
       "[7613 rows x 5 columns]"
      ]
     },
     "execution_count": 232,
     "metadata": {},
     "output_type": "execute_result"
    }
   ],
   "source": [
    "data_train"
   ]
  },
  {
   "cell_type": "code",
   "execution_count": 233,
   "metadata": {},
   "outputs": [
    {
     "data": {
      "text/html": [
       "<div>\n",
       "<style scoped>\n",
       "    .dataframe tbody tr th:only-of-type {\n",
       "        vertical-align: middle;\n",
       "    }\n",
       "\n",
       "    .dataframe tbody tr th {\n",
       "        vertical-align: top;\n",
       "    }\n",
       "\n",
       "    .dataframe thead th {\n",
       "        text-align: right;\n",
       "    }\n",
       "</style>\n",
       "<table border=\"1\" class=\"dataframe\">\n",
       "  <thead>\n",
       "    <tr style=\"text-align: right;\">\n",
       "      <th></th>\n",
       "      <th>id</th>\n",
       "      <th>keyword</th>\n",
       "      <th>location</th>\n",
       "      <th>text</th>\n",
       "    </tr>\n",
       "  </thead>\n",
       "  <tbody>\n",
       "    <tr>\n",
       "      <th>0</th>\n",
       "      <td>0</td>\n",
       "      <td>NaN</td>\n",
       "      <td>NaN</td>\n",
       "      <td>Just happened a terrible car crash</td>\n",
       "    </tr>\n",
       "    <tr>\n",
       "      <th>1</th>\n",
       "      <td>2</td>\n",
       "      <td>NaN</td>\n",
       "      <td>NaN</td>\n",
       "      <td>Heard about #earthquake is different cities, s...</td>\n",
       "    </tr>\n",
       "    <tr>\n",
       "      <th>2</th>\n",
       "      <td>3</td>\n",
       "      <td>NaN</td>\n",
       "      <td>NaN</td>\n",
       "      <td>there is a forest fire at spot pond, geese are...</td>\n",
       "    </tr>\n",
       "    <tr>\n",
       "      <th>3</th>\n",
       "      <td>9</td>\n",
       "      <td>NaN</td>\n",
       "      <td>NaN</td>\n",
       "      <td>Apocalypse lighting. #Spokane #wildfires</td>\n",
       "    </tr>\n",
       "    <tr>\n",
       "      <th>4</th>\n",
       "      <td>11</td>\n",
       "      <td>NaN</td>\n",
       "      <td>NaN</td>\n",
       "      <td>Typhoon Soudelor kills 28 in China and Taiwan</td>\n",
       "    </tr>\n",
       "    <tr>\n",
       "      <th>...</th>\n",
       "      <td>...</td>\n",
       "      <td>...</td>\n",
       "      <td>...</td>\n",
       "      <td>...</td>\n",
       "    </tr>\n",
       "    <tr>\n",
       "      <th>3258</th>\n",
       "      <td>10861</td>\n",
       "      <td>NaN</td>\n",
       "      <td>NaN</td>\n",
       "      <td>EARTHQUAKE SAFETY LOS ANGELES ÛÒ SAFETY FASTE...</td>\n",
       "    </tr>\n",
       "    <tr>\n",
       "      <th>3259</th>\n",
       "      <td>10865</td>\n",
       "      <td>NaN</td>\n",
       "      <td>NaN</td>\n",
       "      <td>Storm in RI worse than last hurricane. My city...</td>\n",
       "    </tr>\n",
       "    <tr>\n",
       "      <th>3260</th>\n",
       "      <td>10868</td>\n",
       "      <td>NaN</td>\n",
       "      <td>NaN</td>\n",
       "      <td>Green Line derailment in Chicago http://t.co/U...</td>\n",
       "    </tr>\n",
       "    <tr>\n",
       "      <th>3261</th>\n",
       "      <td>10874</td>\n",
       "      <td>NaN</td>\n",
       "      <td>NaN</td>\n",
       "      <td>MEG issues Hazardous Weather Outlook (HWO) htt...</td>\n",
       "    </tr>\n",
       "    <tr>\n",
       "      <th>3262</th>\n",
       "      <td>10875</td>\n",
       "      <td>NaN</td>\n",
       "      <td>NaN</td>\n",
       "      <td>#CityofCalgary has activated its Municipal Eme...</td>\n",
       "    </tr>\n",
       "  </tbody>\n",
       "</table>\n",
       "<p>3263 rows × 4 columns</p>\n",
       "</div>"
      ],
      "text/plain": [
       "         id keyword location  \\\n",
       "0         0     NaN      NaN   \n",
       "1         2     NaN      NaN   \n",
       "2         3     NaN      NaN   \n",
       "3         9     NaN      NaN   \n",
       "4        11     NaN      NaN   \n",
       "...     ...     ...      ...   \n",
       "3258  10861     NaN      NaN   \n",
       "3259  10865     NaN      NaN   \n",
       "3260  10868     NaN      NaN   \n",
       "3261  10874     NaN      NaN   \n",
       "3262  10875     NaN      NaN   \n",
       "\n",
       "                                                   text  \n",
       "0                    Just happened a terrible car crash  \n",
       "1     Heard about #earthquake is different cities, s...  \n",
       "2     there is a forest fire at spot pond, geese are...  \n",
       "3              Apocalypse lighting. #Spokane #wildfires  \n",
       "4         Typhoon Soudelor kills 28 in China and Taiwan  \n",
       "...                                                 ...  \n",
       "3258  EARTHQUAKE SAFETY LOS ANGELES ÛÒ SAFETY FASTE...  \n",
       "3259  Storm in RI worse than last hurricane. My city...  \n",
       "3260  Green Line derailment in Chicago http://t.co/U...  \n",
       "3261  MEG issues Hazardous Weather Outlook (HWO) htt...  \n",
       "3262  #CityofCalgary has activated its Municipal Eme...  \n",
       "\n",
       "[3263 rows x 4 columns]"
      ]
     },
     "execution_count": 233,
     "metadata": {},
     "output_type": "execute_result"
    }
   ],
   "source": [
    "data_test"
   ]
  },
  {
   "cell_type": "markdown",
   "metadata": {},
   "source": [
    "Let's find the length of the longest tweet and the average lenght of a tweet"
   ]
  },
  {
   "cell_type": "code",
   "execution_count": 234,
   "metadata": {},
   "outputs": [
    {
     "name": "stdout",
     "output_type": "stream",
     "text": [
      "Longest training tweet: 31\n",
      "Longest tweets' ids: [954, 4432, 5005]\n"
     ]
    }
   ],
   "source": [
    "maxx = 0\n",
    "ids = []\n",
    "for id, tweet in enumerate(data_train.text):\n",
    "    length = len(tweet.split())\n",
    "    if length > maxx:\n",
    "        ids = [id]\n",
    "        maxx = length\n",
    "    elif length == maxx:\n",
    "        ids.append(id)\n",
    "\n",
    "\n",
    "    \n",
    "print(f\"Longest training tweet: {maxx}\")\n",
    "print(f\"Longest tweets' ids: {ids}\")"
   ]
  },
  {
   "cell_type": "code",
   "execution_count": 235,
   "metadata": {},
   "outputs": [
    {
     "name": "stdout",
     "output_type": "stream",
     "text": [
      "Average len: 14.903585971364771\n"
     ]
    }
   ],
   "source": [
    "total = 0\n",
    "for i in data_train.text:\n",
    "    total += len(i.split())\n",
    "print(f\"Average len: {total / data_train.shape[0]}\")"
   ]
  },
  {
   "cell_type": "code",
   "execution_count": 236,
   "metadata": {},
   "outputs": [],
   "source": [
    "all_words = []\n",
    "for id, tweet in enumerate(data_train.text):\n",
    "    all_words.extend([word for word in tweet.split()])\n",
    "\n",
    "count_w = Counter(all_words)\n"
   ]
  },
  {
   "cell_type": "markdown",
   "metadata": {},
   "source": [
    "### I Will use word2vec embeddings\n",
    "\n",
    "    Firstly let's clear the data and transorm it to lower case"
   ]
  },
  {
   "cell_type": "code",
   "execution_count": 237,
   "metadata": {},
   "outputs": [],
   "source": [
    "#https://www.youtube.com/watch?v=My80O5Vx6fs&list=PLEwK9wdS5g0pc4NeOQqGLPcxmBHGUjnWB&index=2\n",
    "# Семинар по DL в тексте"
   ]
  },
  {
   "cell_type": "code",
   "execution_count": 238,
   "metadata": {},
   "outputs": [
    {
     "data": {
      "text/plain": [
       "'!\"#$%&\\'()*+,-./:;<=>?@[\\\\]^_`{|}~'"
      ]
     },
     "execution_count": 238,
     "metadata": {},
     "output_type": "execute_result"
    }
   ],
   "source": [
    "\n",
    "from string import punctuation\n",
    "punctuation"
   ]
  },
  {
   "cell_type": "code",
   "execution_count": 239,
   "metadata": {},
   "outputs": [],
   "source": [
    "def clear_punct(text):\n",
    "    for p in punctuation:\n",
    "        text = text.replace(p, ' ')\n",
    "    text = text.strip().split()\n",
    "    return text\n"
   ]
  },
  {
   "cell_type": "code",
   "execution_count": 240,
   "metadata": {},
   "outputs": [],
   "source": [
    "data_train['text'] = data_train['text'].apply(lambda x: clear_punct(x.lower()))"
   ]
  },
  {
   "cell_type": "code",
   "execution_count": 241,
   "metadata": {},
   "outputs": [
    {
     "data": {
      "text/html": [
       "<div>\n",
       "<style scoped>\n",
       "    .dataframe tbody tr th:only-of-type {\n",
       "        vertical-align: middle;\n",
       "    }\n",
       "\n",
       "    .dataframe tbody tr th {\n",
       "        vertical-align: top;\n",
       "    }\n",
       "\n",
       "    .dataframe thead th {\n",
       "        text-align: right;\n",
       "    }\n",
       "</style>\n",
       "<table border=\"1\" class=\"dataframe\">\n",
       "  <thead>\n",
       "    <tr style=\"text-align: right;\">\n",
       "      <th></th>\n",
       "      <th>id</th>\n",
       "      <th>keyword</th>\n",
       "      <th>location</th>\n",
       "      <th>text</th>\n",
       "      <th>target</th>\n",
       "    </tr>\n",
       "  </thead>\n",
       "  <tbody>\n",
       "    <tr>\n",
       "      <th>0</th>\n",
       "      <td>1</td>\n",
       "      <td>NaN</td>\n",
       "      <td>NaN</td>\n",
       "      <td>[our, deeds, are, the, reason, of, this, earth...</td>\n",
       "      <td>1</td>\n",
       "    </tr>\n",
       "    <tr>\n",
       "      <th>1</th>\n",
       "      <td>4</td>\n",
       "      <td>NaN</td>\n",
       "      <td>NaN</td>\n",
       "      <td>[forest, fire, near, la, ronge, sask, canada]</td>\n",
       "      <td>1</td>\n",
       "    </tr>\n",
       "    <tr>\n",
       "      <th>2</th>\n",
       "      <td>5</td>\n",
       "      <td>NaN</td>\n",
       "      <td>NaN</td>\n",
       "      <td>[all, residents, asked, to, shelter, in, place...</td>\n",
       "      <td>1</td>\n",
       "    </tr>\n",
       "    <tr>\n",
       "      <th>3</th>\n",
       "      <td>6</td>\n",
       "      <td>NaN</td>\n",
       "      <td>NaN</td>\n",
       "      <td>[13, 000, people, receive, wildfires, evacuati...</td>\n",
       "      <td>1</td>\n",
       "    </tr>\n",
       "    <tr>\n",
       "      <th>4</th>\n",
       "      <td>7</td>\n",
       "      <td>NaN</td>\n",
       "      <td>NaN</td>\n",
       "      <td>[just, got, sent, this, photo, from, ruby, ala...</td>\n",
       "      <td>1</td>\n",
       "    </tr>\n",
       "    <tr>\n",
       "      <th>...</th>\n",
       "      <td>...</td>\n",
       "      <td>...</td>\n",
       "      <td>...</td>\n",
       "      <td>...</td>\n",
       "      <td>...</td>\n",
       "    </tr>\n",
       "    <tr>\n",
       "      <th>7608</th>\n",
       "      <td>10869</td>\n",
       "      <td>NaN</td>\n",
       "      <td>NaN</td>\n",
       "      <td>[two, giant, cranes, holding, a, bridge, colla...</td>\n",
       "      <td>1</td>\n",
       "    </tr>\n",
       "    <tr>\n",
       "      <th>7609</th>\n",
       "      <td>10870</td>\n",
       "      <td>NaN</td>\n",
       "      <td>NaN</td>\n",
       "      <td>[aria, ahrary, thetawniest, the, out, of, cont...</td>\n",
       "      <td>1</td>\n",
       "    </tr>\n",
       "    <tr>\n",
       "      <th>7610</th>\n",
       "      <td>10871</td>\n",
       "      <td>NaN</td>\n",
       "      <td>NaN</td>\n",
       "      <td>[m1, 94, 01, 04, utc, 5km, s, of, volcano, haw...</td>\n",
       "      <td>1</td>\n",
       "    </tr>\n",
       "    <tr>\n",
       "      <th>7611</th>\n",
       "      <td>10872</td>\n",
       "      <td>NaN</td>\n",
       "      <td>NaN</td>\n",
       "      <td>[police, investigating, after, an, e, bike, co...</td>\n",
       "      <td>1</td>\n",
       "    </tr>\n",
       "    <tr>\n",
       "      <th>7612</th>\n",
       "      <td>10873</td>\n",
       "      <td>NaN</td>\n",
       "      <td>NaN</td>\n",
       "      <td>[the, latest, more, homes, razed, by, northern...</td>\n",
       "      <td>1</td>\n",
       "    </tr>\n",
       "  </tbody>\n",
       "</table>\n",
       "<p>7613 rows × 5 columns</p>\n",
       "</div>"
      ],
      "text/plain": [
       "         id keyword location  \\\n",
       "0         1     NaN      NaN   \n",
       "1         4     NaN      NaN   \n",
       "2         5     NaN      NaN   \n",
       "3         6     NaN      NaN   \n",
       "4         7     NaN      NaN   \n",
       "...     ...     ...      ...   \n",
       "7608  10869     NaN      NaN   \n",
       "7609  10870     NaN      NaN   \n",
       "7610  10871     NaN      NaN   \n",
       "7611  10872     NaN      NaN   \n",
       "7612  10873     NaN      NaN   \n",
       "\n",
       "                                                   text  target  \n",
       "0     [our, deeds, are, the, reason, of, this, earth...       1  \n",
       "1         [forest, fire, near, la, ronge, sask, canada]       1  \n",
       "2     [all, residents, asked, to, shelter, in, place...       1  \n",
       "3     [13, 000, people, receive, wildfires, evacuati...       1  \n",
       "4     [just, got, sent, this, photo, from, ruby, ala...       1  \n",
       "...                                                 ...     ...  \n",
       "7608  [two, giant, cranes, holding, a, bridge, colla...       1  \n",
       "7609  [aria, ahrary, thetawniest, the, out, of, cont...       1  \n",
       "7610  [m1, 94, 01, 04, utc, 5km, s, of, volcano, haw...       1  \n",
       "7611  [police, investigating, after, an, e, bike, co...       1  \n",
       "7612  [the, latest, more, homes, razed, by, northern...       1  \n",
       "\n",
       "[7613 rows x 5 columns]"
      ]
     },
     "execution_count": 241,
     "metadata": {},
     "output_type": "execute_result"
    }
   ],
   "source": [
    "data_train"
   ]
  },
  {
   "cell_type": "code",
   "execution_count": 242,
   "metadata": {},
   "outputs": [],
   "source": [
    "from gensim.models import Word2Vec\n",
    "\n",
    "model = Word2Vec(data_train.text,\n",
    "                 vector_size=32,\n",
    "                 min_count=1,\n",
    "                 window=5).wv\n"
   ]
  },
  {
   "cell_type": "code",
   "execution_count": 243,
   "metadata": {},
   "outputs": [],
   "source": [
    "vocab = model.index_to_key\n",
    "\n",
    "# Create the embedding matrix\n",
    "embedding_matrix = torch.zeros((len(vocab), model.vector_size))\n",
    "for i, word in enumerate(vocab):\n",
    "    embedding_matrix[i] = torch.from_numpy(model[word])"
   ]
  },
  {
   "cell_type": "markdown",
   "metadata": {},
   "source": [
    "### We can see that words such as \"http\", \"co\", \"t\" are the most common words which may worsen accuracy of our future model."
   ]
  },
  {
   "cell_type": "code",
   "execution_count": 244,
   "metadata": {},
   "outputs": [
    {
     "data": {
      "text/plain": [
       "[('saturated', 0.8081209063529968),\n",
       " ('honda', 0.8078197836875916),\n",
       " ('yazidis', 0.8048319220542908),\n",
       " ('syndrome', 0.801944375038147),\n",
       " ('mpp', 0.7974042296409607),\n",
       " ('earbuds', 0.7916249632835388),\n",
       " ('object', 0.7915449738502502),\n",
       " ('marlon', 0.7882564067840576),\n",
       " ('1976', 0.7877078056335449),\n",
       " ('cld', 0.786592423915863)]"
      ]
     },
     "execution_count": 244,
     "metadata": {},
     "output_type": "execute_result"
    }
   ],
   "source": [
    "model.most_similar('deeds')"
   ]
  },
  {
   "cell_type": "markdown",
   "metadata": {},
   "source": [
    "Now I'm going to visualize embedding vectors for first 1000 most common words"
   ]
  },
  {
   "cell_type": "code",
   "execution_count": 245,
   "metadata": {},
   "outputs": [],
   "source": [
    "words = model.index_to_key[:1000]\n"
   ]
  },
  {
   "cell_type": "code",
   "execution_count": 246,
   "metadata": {},
   "outputs": [],
   "source": [
    "word_vectors = [model.get_vector(word) for word in words]"
   ]
  },
  {
   "cell_type": "markdown",
   "metadata": {},
   "source": [
    "Our embedding vectors are high-dimensional, so to visualize them we have to use some dimensionality reduction technique. First, let's try PCA."
   ]
  },
  {
   "cell_type": "code",
   "execution_count": 247,
   "metadata": {},
   "outputs": [],
   "source": [
    "from sklearn.decomposition import PCA\n",
    "\n",
    "\n",
    "word_vectors_pca = PCA(n_components=2).fit_transform(word_vectors)"
   ]
  },
  {
   "cell_type": "code",
   "execution_count": 248,
   "metadata": {},
   "outputs": [
    {
     "data": {
      "text/html": [
       "    <style>\n",
       "        .bk-notebook-logo {\n",
       "            display: block;\n",
       "            width: 20px;\n",
       "            height: 20px;\n",
       "            background-image: url(data:image/png;base64,iVBORw0KGgoAAAANSUhEUgAAABQAAAAUCAYAAACNiR0NAAAABHNCSVQICAgIfAhkiAAAAAlwSFlzAAALEgAACxIB0t1+/AAAABx0RVh0U29mdHdhcmUAQWRvYmUgRmlyZXdvcmtzIENTNui8sowAAAOkSURBVDiNjZRtaJVlGMd/1/08zzln5zjP1LWcU9N0NkN8m2CYjpgQYQXqSs0I84OLIC0hkEKoPtiH3gmKoiJDU7QpLgoLjLIQCpEsNJ1vqUOdO7ppbuec5+V+rj4ctwzd8IIbbi6u+8f1539dt3A78eXC7QizUF7gyV1fD1Yqg4JWz84yffhm0qkFqBogB9rM8tZdtwVsPUhWhGcFJngGeWrPzHm5oaMmkfEg1usvLFyc8jLRqDOMru7AyC8saQr7GG7f5fvDeH7Ej8CM66nIF+8yngt6HWaKh7k49Soy9nXurCi1o3qUbS3zWfrYeQDTB/Qj6kX6Ybhw4B+bOYoLKCC9H3Nu/leUTZ1JdRWkkn2ldcCamzrcf47KKXdAJllSlxAOkRgyHsGC/zRday5Qld9DyoM4/q/rUoy/CXh3jzOu3bHUVZeU+DEn8FInkPBFlu3+nW3Nw0mk6vCDiWg8CeJaxEwuHS3+z5RgY+YBR6V1Z1nxSOfoaPa4LASWxxdNp+VWTk7+4vzaou8v8PN+xo+KY2xsw6une2frhw05CTYOmQvsEhjhWjn0bmXPjpE1+kplmmkP3suftwTubK9Vq22qKmrBhpY4jvd5afdRA3wGjFAgcnTK2s4hY0/GPNIb0nErGMCRxWOOX64Z8RAC4oCXdklmEvcL8o0BfkNK4lUg9HTl+oPlQxdNo3Mg4Nv175e/1LDGzZen30MEjRUtmXSfiTVu1kK8W4txyV6BMKlbgk3lMwYCiusNy9fVfvvwMxv8Ynl6vxoByANLTWplvuj/nF9m2+PDtt1eiHPBr1oIfhCChQMBw6Aw0UulqTKZdfVvfG7VcfIqLG9bcldL/+pdWTLxLUy8Qq38heUIjh4XlzZxzQm19lLFlr8vdQ97rjZVOLf8nclzckbcD4wxXMidpX30sFd37Fv/GtwwhzhxGVAprjbg0gCAEeIgwCZyTV2Z1REEW8O4py0wsjeloKoMr6iCY6dP92H6Vw/oTyICIthibxjm/DfN9lVz8IqtqKYLUXfoKVMVQVVJOElGjrnnUt9T9wbgp8AyYKaGlqingHZU/uG2NTZSVqwHQTWkx9hxjkpWDaCg6Ckj5qebgBVbT3V3NNXMSiWSDdGV3hrtzla7J+duwPOToIg42ChPQOQjspnSlp1V+Gjdged7+8UN5CRAV7a5EdFNwCjEaBR27b3W890TE7g24NAP/mMDXRWrGoFPQI9ls/MWO2dWFAar/xcOIImbbpA3zgAAAABJRU5ErkJggg==);\n",
       "        }\n",
       "    </style>\n",
       "    <div>\n",
       "        <a href=\"https://bokeh.org\" target=\"_blank\" class=\"bk-notebook-logo\"></a>\n",
       "        <span id=\"df1930e8-b704-40c8-ae12-ff8a57d79875\">Loading BokehJS ...</span>\n",
       "    </div>\n"
      ]
     },
     "metadata": {},
     "output_type": "display_data"
    },
    {
     "data": {
      "application/javascript": "(function(root) {\n  function now() {\n    return new Date();\n  }\n\n  const force = true;\n\n  if (typeof root._bokeh_onload_callbacks === \"undefined\" || force === true) {\n    root._bokeh_onload_callbacks = [];\n    root._bokeh_is_loading = undefined;\n  }\n\nconst JS_MIME_TYPE = 'application/javascript';\n  const HTML_MIME_TYPE = 'text/html';\n  const EXEC_MIME_TYPE = 'application/vnd.bokehjs_exec.v0+json';\n  const CLASS_NAME = 'output_bokeh rendered_html';\n\n  /**\n   * Render data to the DOM node\n   */\n  function render(props, node) {\n    const script = document.createElement(\"script\");\n    node.appendChild(script);\n  }\n\n  /**\n   * Handle when an output is cleared or removed\n   */\n  function handleClearOutput(event, handle) {\n    function drop(id) {\n      const view = Bokeh.index.get_by_id(id)\n      if (view != null) {\n        view.model.document.clear()\n        Bokeh.index.delete(view)\n      }\n    }\n\n    const cell = handle.cell;\n\n    const id = cell.output_area._bokeh_element_id;\n    const server_id = cell.output_area._bokeh_server_id;\n\n    // Clean up Bokeh references\n    if (id != null) {\n      drop(id)\n    }\n\n    if (server_id !== undefined) {\n      // Clean up Bokeh references\n      const cmd_clean = \"from bokeh.io.state import curstate; print(curstate().uuid_to_server['\" + server_id + \"'].get_sessions()[0].document.roots[0]._id)\";\n      cell.notebook.kernel.execute(cmd_clean, {\n        iopub: {\n          output: function(msg) {\n            const id = msg.content.text.trim()\n            drop(id)\n          }\n        }\n      });\n      // Destroy server and session\n      const cmd_destroy = \"import bokeh.io.notebook as ion; ion.destroy_server('\" + server_id + \"')\";\n      cell.notebook.kernel.execute(cmd_destroy);\n    }\n  }\n\n  /**\n   * Handle when a new output is added\n   */\n  function handleAddOutput(event, handle) {\n    const output_area = handle.output_area;\n    const output = handle.output;\n\n    // limit handleAddOutput to display_data with EXEC_MIME_TYPE content only\n    if ((output.output_type != \"display_data\") || (!Object.prototype.hasOwnProperty.call(output.data, EXEC_MIME_TYPE))) {\n      return\n    }\n\n    const toinsert = output_area.element.find(\".\" + CLASS_NAME.split(' ')[0]);\n\n    if (output.metadata[EXEC_MIME_TYPE][\"id\"] !== undefined) {\n      toinsert[toinsert.length - 1].firstChild.textContent = output.data[JS_MIME_TYPE];\n      // store reference to embed id on output_area\n      output_area._bokeh_element_id = output.metadata[EXEC_MIME_TYPE][\"id\"];\n    }\n    if (output.metadata[EXEC_MIME_TYPE][\"server_id\"] !== undefined) {\n      const bk_div = document.createElement(\"div\");\n      bk_div.innerHTML = output.data[HTML_MIME_TYPE];\n      const script_attrs = bk_div.children[0].attributes;\n      for (let i = 0; i < script_attrs.length; i++) {\n        toinsert[toinsert.length - 1].firstChild.setAttribute(script_attrs[i].name, script_attrs[i].value);\n        toinsert[toinsert.length - 1].firstChild.textContent = bk_div.children[0].textContent\n      }\n      // store reference to server id on output_area\n      output_area._bokeh_server_id = output.metadata[EXEC_MIME_TYPE][\"server_id\"];\n    }\n  }\n\n  function register_renderer(events, OutputArea) {\n\n    function append_mime(data, metadata, element) {\n      // create a DOM node to render to\n      const toinsert = this.create_output_subarea(\n        metadata,\n        CLASS_NAME,\n        EXEC_MIME_TYPE\n      );\n      this.keyboard_manager.register_events(toinsert);\n      // Render to node\n      const props = {data: data, metadata: metadata[EXEC_MIME_TYPE]};\n      render(props, toinsert[toinsert.length - 1]);\n      element.append(toinsert);\n      return toinsert\n    }\n\n    /* Handle when an output is cleared or removed */\n    events.on('clear_output.CodeCell', handleClearOutput);\n    events.on('delete.Cell', handleClearOutput);\n\n    /* Handle when a new output is added */\n    events.on('output_added.OutputArea', handleAddOutput);\n\n    /**\n     * Register the mime type and append_mime function with output_area\n     */\n    OutputArea.prototype.register_mime_type(EXEC_MIME_TYPE, append_mime, {\n      /* Is output safe? */\n      safe: true,\n      /* Index of renderer in `output_area.display_order` */\n      index: 0\n    });\n  }\n\n  // register the mime type if in Jupyter Notebook environment and previously unregistered\n  if (root.Jupyter !== undefined) {\n    const events = require('base/js/events');\n    const OutputArea = require('notebook/js/outputarea').OutputArea;\n\n    if (OutputArea.prototype.mime_types().indexOf(EXEC_MIME_TYPE) == -1) {\n      register_renderer(events, OutputArea);\n    }\n  }\n  if (typeof (root._bokeh_timeout) === \"undefined\" || force === true) {\n    root._bokeh_timeout = Date.now() + 5000;\n    root._bokeh_failed_load = false;\n  }\n\n  const NB_LOAD_WARNING = {'data': {'text/html':\n     \"<div style='background-color: #fdd'>\\n\"+\n     \"<p>\\n\"+\n     \"BokehJS does not appear to have successfully loaded. If loading BokehJS from CDN, this \\n\"+\n     \"may be due to a slow or bad network connection. Possible fixes:\\n\"+\n     \"</p>\\n\"+\n     \"<ul>\\n\"+\n     \"<li>re-rerun `output_notebook()` to attempt to load from CDN again, or</li>\\n\"+\n     \"<li>use INLINE resources instead, as so:</li>\\n\"+\n     \"</ul>\\n\"+\n     \"<code>\\n\"+\n     \"from bokeh.resources import INLINE\\n\"+\n     \"output_notebook(resources=INLINE)\\n\"+\n     \"</code>\\n\"+\n     \"</div>\"}};\n\n  function display_loaded() {\n    const el = document.getElementById(\"df1930e8-b704-40c8-ae12-ff8a57d79875\");\n    if (el != null) {\n      el.textContent = \"BokehJS is loading...\";\n    }\n    if (root.Bokeh !== undefined) {\n      if (el != null) {\n        el.textContent = \"BokehJS \" + root.Bokeh.version + \" successfully loaded.\";\n      }\n    } else if (Date.now() < root._bokeh_timeout) {\n      setTimeout(display_loaded, 100)\n    }\n  }\n\n  function run_callbacks() {\n    try {\n      root._bokeh_onload_callbacks.forEach(function(callback) {\n        if (callback != null)\n          callback();\n      });\n    } finally {\n      delete root._bokeh_onload_callbacks\n    }\n    console.debug(\"Bokeh: all callbacks have finished\");\n  }\n\n  function load_libs(css_urls, js_urls, callback) {\n    if (css_urls == null) css_urls = [];\n    if (js_urls == null) js_urls = [];\n\n    root._bokeh_onload_callbacks.push(callback);\n    if (root._bokeh_is_loading > 0) {\n      console.debug(\"Bokeh: BokehJS is being loaded, scheduling callback at\", now());\n      return null;\n    }\n    if (js_urls == null || js_urls.length === 0) {\n      run_callbacks();\n      return null;\n    }\n    console.debug(\"Bokeh: BokehJS not loaded, scheduling load and callback at\", now());\n    root._bokeh_is_loading = css_urls.length + js_urls.length;\n\n    function on_load() {\n      root._bokeh_is_loading--;\n      if (root._bokeh_is_loading === 0) {\n        console.debug(\"Bokeh: all BokehJS libraries/stylesheets loaded\");\n        run_callbacks()\n      }\n    }\n\n    function on_error(url) {\n      console.error(\"failed to load \" + url);\n    }\n\n    for (let i = 0; i < css_urls.length; i++) {\n      const url = css_urls[i];\n      const element = document.createElement(\"link\");\n      element.onload = on_load;\n      element.onerror = on_error.bind(null, url);\n      element.rel = \"stylesheet\";\n      element.type = \"text/css\";\n      element.href = url;\n      console.debug(\"Bokeh: injecting link tag for BokehJS stylesheet: \", url);\n      document.body.appendChild(element);\n    }\n\n    for (let i = 0; i < js_urls.length; i++) {\n      const url = js_urls[i];\n      const element = document.createElement('script');\n      element.onload = on_load;\n      element.onerror = on_error.bind(null, url);\n      element.async = false;\n      element.src = url;\n      console.debug(\"Bokeh: injecting script tag for BokehJS library: \", url);\n      document.head.appendChild(element);\n    }\n  };\n\n  function inject_raw_css(css) {\n    const element = document.createElement(\"style\");\n    element.appendChild(document.createTextNode(css));\n    document.body.appendChild(element);\n  }\n\n  const js_urls = [\"https://cdn.bokeh.org/bokeh/release/bokeh-3.3.2.min.js\", \"https://cdn.bokeh.org/bokeh/release/bokeh-gl-3.3.2.min.js\", \"https://cdn.bokeh.org/bokeh/release/bokeh-widgets-3.3.2.min.js\", \"https://cdn.bokeh.org/bokeh/release/bokeh-tables-3.3.2.min.js\", \"https://cdn.bokeh.org/bokeh/release/bokeh-mathjax-3.3.2.min.js\"];\n  const css_urls = [];\n\n  const inline_js = [    function(Bokeh) {\n      Bokeh.set_log_level(\"info\");\n    },\nfunction(Bokeh) {\n    }\n  ];\n\n  function run_inline_js() {\n    if (root.Bokeh !== undefined || force === true) {\n          for (let i = 0; i < inline_js.length; i++) {\n      inline_js[i].call(root, root.Bokeh);\n    }\nif (force === true) {\n        display_loaded();\n      }} else if (Date.now() < root._bokeh_timeout) {\n      setTimeout(run_inline_js, 100);\n    } else if (!root._bokeh_failed_load) {\n      console.log(\"Bokeh: BokehJS failed to load within specified timeout.\");\n      root._bokeh_failed_load = true;\n    } else if (force !== true) {\n      const cell = $(document.getElementById(\"df1930e8-b704-40c8-ae12-ff8a57d79875\")).parents('.cell').data().cell;\n      cell.output_area.append_execute_result(NB_LOAD_WARNING)\n    }\n  }\n\n  if (root._bokeh_is_loading === 0) {\n    console.debug(\"Bokeh: BokehJS loaded, going straight to plotting\");\n    run_inline_js();\n  } else {\n    load_libs(css_urls, js_urls, function() {\n      console.debug(\"Bokeh: BokehJS plotting callback run at\", now());\n      run_inline_js();\n    });\n  }\n}(window));",
      "application/vnd.bokehjs_load.v0+json": ""
     },
     "metadata": {},
     "output_type": "display_data"
    }
   ],
   "source": [
    "import bokeh.models as bm, bokeh.plotting as pl\n",
    "from bokeh.io import output_notebook\n",
    "output_notebook()\n",
    "\n",
    "def draw_vectors(x, y, radius=10, alpha=0.25, color='blue',\n",
    "                 width=600, height=400, show=True, **kwargs):\n",
    "    \"\"\" draws an interactive plot for data points with auxilirary info on hover \"\"\"\n",
    "    if isinstance(color, str): color = [color] * len(x)\n",
    "    data_source = bm.ColumnDataSource({ 'x' : x, 'y' : y, 'color': color, **kwargs })\n",
    "\n",
    "    fig = pl.figure(active_scroll='wheel_zoom', width=width, height=height)\n",
    "    fig.scatter('x', 'y', size=radius, color='color', alpha=alpha, source=data_source)\n",
    "\n",
    "    fig.add_tools(bm.HoverTool(tooltips=[(key, \"@\" + key) for key in kwargs.keys()]))\n",
    "    if show: pl.show(fig)\n",
    "    return fig"
   ]
  },
  {
   "cell_type": "code",
   "execution_count": 249,
   "metadata": {},
   "outputs": [
    {
     "data": {
      "text/html": [
       "\n",
       "  <div id=\"afd38d29-7e86-4ee2-9e5f-39907f13c21b\" data-root-id=\"p1102\" style=\"display: contents;\"></div>\n"
      ]
     },
     "metadata": {},
     "output_type": "display_data"
    },
    {
     "data": {
      "application/javascript": "(function(root) {\n  function embed_document(root) {\n  const docs_json = {\"4fd57f18-6813-4aa7-9169-65e68a854df1\":{\"version\":\"3.3.2\",\"title\":\"Bokeh Application\",\"roots\":[{\"type\":\"object\",\"name\":\"Figure\",\"id\":\"p1102\",\"attributes\":{\"height\":400,\"x_range\":{\"type\":\"object\",\"name\":\"DataRange1d\",\"id\":\"p1103\"},\"y_range\":{\"type\":\"object\",\"name\":\"DataRange1d\",\"id\":\"p1104\"},\"x_scale\":{\"type\":\"object\",\"name\":\"LinearScale\",\"id\":\"p1111\"},\"y_scale\":{\"type\":\"object\",\"name\":\"LinearScale\",\"id\":\"p1112\"},\"title\":{\"type\":\"object\",\"name\":\"Title\",\"id\":\"p1109\"},\"renderers\":[{\"type\":\"object\",\"name\":\"GlyphRenderer\",\"id\":\"p1140\",\"attributes\":{\"data_source\":{\"type\":\"object\",\"name\":\"ColumnDataSource\",\"id\":\"p1099\",\"attributes\":{\"selected\":{\"type\":\"object\",\"name\":\"Selection\",\"id\":\"p1100\",\"attributes\":{\"indices\":[],\"line_indices\":[]}},\"selection_policy\":{\"type\":\"object\",\"name\":\"UnionRenderers\",\"id\":\"p1101\"},\"data\":{\"type\":\"map\",\"entries\":[[\"x\",{\"type\":\"ndarray\",\"array\":{\"type\":\"bytes\",\"data\":\"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\"},\"shape\":[1000],\"dtype\":\"float64\",\"order\":\"little\"}],[\"y\",{\"type\":\"ndarray\",\"array\":{\"type\":\"bytes\",\"data\":\"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\"},\"shape\":[1000],\"dtype\":\"float64\",\"order\":\"little\"}],[\"color\",[\"blue\",\"blue\",\"blue\",\"blue\",\"blue\",\"blue\",\"blue\",\"blue\",\"blue\",\"blue\",\"blue\",\"blue\",\"blue\",\"blue\",\"blue\",\"blue\",\"blue\",\"blue\",\"blue\",\"blue\",\"blue\",\"blue\",\"blue\",\"blue\",\"blue\",\"blue\",\"blue\",\"blue\",\"blue\",\"blue\",\"blue\",\"blue\",\"blue\",\"blue\",\"blue\",\"blue\",\"blue\",\"blue\",\"blue\",\"blue\",\"blue\",\"blue\",\"blue\",\"blue\",\"blue\",\"blue\",\"blue\",\"blue\",\"blue\",\"blue\",\"blue\",\"blue\",\"blue\",\"blue\",\"blue\",\"blue\",\"blue\",\"blue\",\"blue\",\"blue\",\"blue\",\"blue\",\"blue\",\"blue\",\"blue\",\"blue\",\"blue\",\"blue\",\"blue\",\"blue\",\"blue\",\"blue\",\"blue\",\"blue\",\"blue\",\"blue\",\"blue\",\"blue\",\"blue\",\"blue\",\"blue\",\"blue\",\"blue\",\"blue\",\"blue\",\"blue\",\"blue\",\"blue\",\"blue\",\"blue\",\"blue\",\"blue\",\"blue\",\"blue\",\"blue\",\"blue\",\"blue\",\"blue\",\"blue\",\"blue\",\"blue\",\"blue\",\"blue\",\"blue\",\"blue\",\"blue\",\"blue\",\"blue\",\"blue\",\"blue\",\"blue\",\"blue\",\"blue\",\"blue\",\"blue\",\"blue\",\"blue\",\"blue\",\"blue\",\"blue\",\"blue\",\"blue\",\"blue\",\"blue\",\"blue\",\"blue\",\"blue\",\"blue\",\"blue\",\"blue\",\"blue\",\"blue\",\"blue\",\"blue\",\"blue\",\"blue\",\"blue\",\"blue\",\"blue\",\"blue\",\"blue\",\"blue\",\"blue\",\"blue\",\"blue\",\"blue\",\"blue\",\"blue\",\"blue\",\"blue\",\"blue\",\"blue\",\"blue\",\"blue\",\"blue\",\"blue\",\"blue\",\"blue\",\"blue\",\"blue\",\"blue\",\"blue\",\"blue\",\"blue\",\"blue\",\"blue\",\"blue\",\"blue\",\"blue\",\"blue\",\"blue\",\"blue\",\"blue\",\"blue\",\"blue\",\"blue\",\"blue\",\"blue\",\"blue\",\"blue\",\"blue\",\"blue\",\"blue\",\"blue\",\"blue\",\"blue\",\"blue\",\"blue\",\"blue\",\"blue\",\"blue\",\"blue\",\"blue\",\"blue\",\"blue\",\"blue\",\"blue\",\"blue\",\"blue\",\"blue\",\"blue\",\"blue\",\"blue\",\"blue\",\"blue\",\"blue\",\"blue\",\"blue\",\"blue\",\"blue\",\"blue\",\"blue\",\"blue\",\"blue\",\"blue\",\"blue\",\"blue\",\"blue\",\"blue\",\"blue\",\"blue\",\"blue\",\"blue\",\"blue\",\"blue\",\"blue\",\"blue\",\"blue\",\"blue\",\"blue\",\"blue\",\"blue\",\"blue\",\"blue\",\"blue\",\"blue\",\"blue\",\"blue\",\"blue\",\"blue\",\"blue\",\"blue\",\"blue\",\"blue\",\"blue\",\"blue\",\"blue\",\"blue\",\"blue\",\"blue\",\"blue\",\"blue\",\"blue\",\"blue\",\"blue\",\"blue\",\"blue\",\"blue\",\"blue\",\"blue\",\"blue\",\"blue\",\"blue\",\"blue\",\"blue\",\"blue\",\"blue\",\"blue\",\"blue\",\"blue\",\"blue\",\"blue\",\"blue\",\"blue\",\"blue\",\"blue\",\"blue\",\"blue\",\"blue\",\"blue\",\"blue\",\"blue\",\"blue\",\"blue\",\"blue\",\"blue\",\"blue\",\"blue\",\"blue\",\"blue\",\"blue\",\"blue\",\"blue\",\"blue\",\"blue\",\"blue\",\"blue\",\"blue\",\"blue\",\"blue\",\"blue\",\"blue\",\"blue\",\"blue\",\"blue\",\"blue\",\"blue\",\"blue\",\"blue\",\"blue\",\"blue\",\"blue\",\"blue\",\"blue\",\"blue\",\"blue\",\"blue\",\"blue\",\"blue\",\"blue\",\"blue\",\"blue\",\"blue\",\"blue\",\"blue\",\"blue\",\"blue\",\"blue\",\"blue\",\"blue\",\"blue\",\"blue\",\"blue\",\"blue\",\"blue\",\"blue\",\"blue\",\"blue\",\"blue\",\"blue\",\"blue\",\"blue\",\"blue\",\"blue\",\"blue\",\"blue\",\"blue\",\"blue\",\"blue\",\"blue\",\"blue\",\"blue\",\"blue\",\"blue\",\"blue\",\"blue\",\"blue\",\"blue\",\"blue\",\"blue\",\"blue\",\"blue\",\"blue\",\"blue\",\"blue\",\"blue\",\"blue\",\"blue\",\"blue\",\"blue\",\"blue\",\"blue\",\"blue\",\"blue\",\"blue\",\"blue\",\"blue\",\"blue\",\"blue\",\"blue\",\"blue\",\"blue\",\"blue\",\"blue\",\"blue\",\"blue\",\"blue\",\"blue\",\"blue\",\"blue\",\"blue\",\"blue\",\"blue\",\"blue\",\"blue\",\"blue\",\"blue\",\"blue\",\"blue\",\"blue\",\"blue\",\"blue\",\"blue\",\"blue\",\"blue\",\"blue\",\"blue\",\"blue\",\"blue\",\"blue\",\"blue\",\"blue\",\"blue\",\"blue\",\"blue\",\"blue\",\"blue\",\"blue\",\"blue\",\"blue\",\"blue\",\"blue\",\"blue\",\"blue\",\"blue\",\"blue\",\"blue\",\"blue\",\"blue\",\"blue\",\"blue\",\"blue\",\"blue\",\"blue\",\"blue\",\"blue\",\"blue\",\"blue\",\"blue\",\"blue\",\"blue\",\"blue\",\"blue\",\"blue\",\"blue\",\"blue\",\"blue\",\"blue\",\"blue\",\"blue\",\"blue\",\"blue\",\"blue\",\"blue\",\"blue\",\"blue\",\"blue\",\"blue\",\"blue\",\"blue\",\"blue\",\"blue\",\"blue\",\"blue\",\"blue\",\"blue\",\"blue\",\"blue\",\"blue\",\"blue\",\"blue\",\"blue\",\"blue\",\"blue\",\"blue\",\"blue\",\"blue\",\"blue\",\"blue\",\"blue\",\"blue\",\"blue\",\"blue\",\"blue\",\"blue\",\"blue\",\"blue\",\"blue\",\"blue\",\"blue\",\"blue\",\"blue\",\"blue\",\"blue\",\"blue\",\"blue\",\"blue\",\"blue\",\"blue\",\"blue\",\"blue\",\"blue\",\"blue\",\"blue\",\"blue\",\"blue\",\"blue\",\"blue\",\"blue\",\"blue\",\"blue\",\"blue\",\"blue\",\"blue\",\"blue\",\"blue\",\"blue\",\"blue\",\"blue\",\"blue\",\"blue\",\"blue\",\"blue\",\"blue\",\"blue\",\"blue\",\"blue\",\"blue\",\"blue\",\"blue\",\"blue\",\"blue\",\"blue\",\"blue\",\"blue\",\"blue\",\"blue\",\"blue\",\"blue\",\"blue\",\"blue\",\"blue\",\"blue\",\"blue\",\"blue\",\"blue\",\"blue\",\"blue\",\"blue\",\"blue\",\"blue\",\"blue\",\"blue\",\"blue\",\"blue\",\"blue\",\"blue\",\"blue\",\"blue\",\"blue\",\"blue\",\"blue\",\"blue\",\"blue\",\"blue\",\"blue\",\"blue\",\"blue\",\"blue\",\"blue\",\"blue\",\"blue\",\"blue\",\"blue\",\"blue\",\"blue\",\"blue\",\"blue\",\"blue\",\"blue\",\"blue\",\"blue\",\"blue\",\"blue\",\"blue\",\"blue\",\"blue\",\"blue\",\"blue\",\"blue\",\"blue\",\"blue\",\"blue\",\"blue\",\"blue\",\"blue\",\"blue\",\"blue\",\"blue\",\"blue\",\"blue\",\"blue\",\"blue\",\"blue\",\"blue\",\"blue\",\"blue\",\"blue\",\"blue\",\"blue\",\"blue\",\"blue\",\"blue\",\"blue\",\"blue\",\"blue\",\"blue\",\"blue\",\"blue\",\"blue\",\"blue\",\"blue\",\"blue\",\"blue\",\"blue\",\"blue\",\"blue\",\"blue\",\"blue\",\"blue\",\"blue\",\"blue\",\"blue\",\"blue\",\"blue\",\"blue\",\"blue\",\"blue\",\"blue\",\"blue\",\"blue\",\"blue\",\"blue\",\"blue\",\"blue\",\"blue\",\"blue\",\"blue\",\"blue\",\"blue\",\"blue\",\"blue\",\"blue\",\"blue\",\"blue\",\"blue\",\"blue\",\"blue\",\"blue\",\"blue\",\"blue\",\"blue\",\"blue\",\"blue\",\"blue\",\"blue\",\"blue\",\"blue\",\"blue\",\"blue\",\"blue\",\"blue\",\"blue\",\"blue\",\"blue\",\"blue\",\"blue\",\"blue\",\"blue\",\"blue\",\"blue\",\"blue\",\"blue\",\"blue\",\"blue\",\"blue\",\"blue\",\"blue\",\"blue\",\"blue\",\"blue\",\"blue\",\"blue\",\"blue\",\"blue\",\"blue\",\"blue\",\"blue\",\"blue\",\"blue\",\"blue\",\"blue\",\"blue\",\"blue\",\"blue\",\"blue\",\"blue\",\"blue\",\"blue\",\"blue\",\"blue\",\"blue\",\"blue\",\"blue\",\"blue\",\"blue\",\"blue\",\"blue\",\"blue\",\"blue\",\"blue\",\"blue\",\"blue\",\"blue\",\"blue\",\"blue\",\"blue\",\"blue\",\"blue\",\"blue\",\"blue\",\"blue\",\"blue\",\"blue\",\"blue\",\"blue\",\"blue\",\"blue\",\"blue\",\"blue\",\"blue\",\"blue\",\"blue\",\"blue\",\"blue\",\"blue\",\"blue\",\"blue\",\"blue\",\"blue\",\"blue\",\"blue\",\"blue\",\"blue\",\"blue\",\"blue\",\"blue\",\"blue\",\"blue\",\"blue\",\"blue\",\"blue\",\"blue\",\"blue\",\"blue\",\"blue\",\"blue\",\"blue\",\"blue\",\"blue\",\"blue\",\"blue\",\"blue\",\"blue\",\"blue\",\"blue\",\"blue\",\"blue\",\"blue\",\"blue\",\"blue\",\"blue\",\"blue\",\"blue\",\"blue\",\"blue\",\"blue\",\"blue\",\"blue\",\"blue\",\"blue\",\"blue\",\"blue\",\"blue\",\"blue\",\"blue\",\"blue\",\"blue\",\"blue\",\"blue\",\"blue\",\"blue\",\"blue\",\"blue\",\"blue\",\"blue\",\"blue\",\"blue\",\"blue\",\"blue\",\"blue\",\"blue\",\"blue\",\"blue\",\"blue\",\"blue\",\"blue\",\"blue\",\"blue\",\"blue\",\"blue\",\"blue\",\"blue\",\"blue\",\"blue\",\"blue\",\"blue\",\"blue\",\"blue\",\"blue\",\"blue\",\"blue\",\"blue\",\"blue\",\"blue\",\"blue\",\"blue\",\"blue\",\"blue\",\"blue\",\"blue\",\"blue\",\"blue\",\"blue\",\"blue\",\"blue\",\"blue\",\"blue\",\"blue\",\"blue\",\"blue\",\"blue\",\"blue\",\"blue\",\"blue\",\"blue\",\"blue\",\"blue\",\"blue\",\"blue\",\"blue\",\"blue\",\"blue\",\"blue\",\"blue\",\"blue\",\"blue\",\"blue\",\"blue\",\"blue\",\"blue\",\"blue\",\"blue\",\"blue\",\"blue\",\"blue\",\"blue\",\"blue\",\"blue\",\"blue\",\"blue\",\"blue\",\"blue\",\"blue\",\"blue\",\"blue\",\"blue\",\"blue\",\"blue\",\"blue\",\"blue\",\"blue\",\"blue\",\"blue\",\"blue\",\"blue\",\"blue\",\"blue\",\"blue\",\"blue\",\"blue\",\"blue\",\"blue\",\"blue\",\"blue\",\"blue\",\"blue\",\"blue\",\"blue\",\"blue\",\"blue\",\"blue\",\"blue\",\"blue\",\"blue\",\"blue\",\"blue\",\"blue\",\"blue\",\"blue\",\"blue\",\"blue\",\"blue\",\"blue\",\"blue\",\"blue\",\"blue\",\"blue\",\"blue\",\"blue\",\"blue\",\"blue\",\"blue\",\"blue\",\"blue\",\"blue\",\"blue\",\"blue\",\"blue\",\"blue\",\"blue\",\"blue\",\"blue\",\"blue\",\"blue\",\"blue\",\"blue\",\"blue\",\"blue\",\"blue\",\"blue\",\"blue\",\"blue\",\"blue\",\"blue\",\"blue\",\"blue\",\"blue\",\"blue\",\"blue\",\"blue\",\"blue\",\"blue\",\"blue\",\"blue\",\"blue\",\"blue\",\"blue\",\"blue\",\"blue\",\"blue\",\"blue\",\"blue\",\"blue\",\"blue\",\"blue\",\"blue\",\"blue\",\"blue\",\"blue\",\"blue\",\"blue\",\"blue\",\"blue\",\"blue\",\"blue\",\"blue\",\"blue\",\"blue\",\"blue\",\"blue\",\"blue\",\"blue\",\"blue\",\"blue\",\"blue\",\"blue\",\"blue\",\"blue\",\"blue\"]],[\"token\",[\"t\",\"co\",\"http\",\"the\",\"a\",\"in\",\"to\",\"of\",\"i\",\"and\",\"is\",\"s\",\"for\",\"you\",\"on\",\"it\",\"my\",\"that\",\"with\",\"at\",\"by\",\"this\",\"from\",\"https\",\"be\",\"are\",\"was\",\"have\",\"like\",\"amp\",\"as\",\"up\",\"me\",\"but\",\"just\",\"so\",\"m\",\"not\",\"your\",\"we\",\"out\",\"all\",\"no\",\"after\",\"will\",\"fire\",\"an\",\"has\",\"can\",\"when\",\"if\",\"he\",\"they\",\"get\",\"new\",\"now\",\"what\",\"via\",\"more\",\"2\",\"about\",\"or\",\"people\",\"news\",\"one\",\"how\",\"been\",\"there\",\"who\",\"over\",\"don\",\"into\",\"do\",\"video\",\"emergency\",\"disaster\",\"re\",\"police\",\"than\",\"would\",\"3\",\"her\",\"u\",\"body\",\"some\",\"his\",\"still\",\"us\",\"were\",\"california\",\"burning\",\"storm\",\"crash\",\"back\",\"suicide\",\"1\",\"day\",\"off\",\"time\",\"man\",\"them\",\"why\",\"got\",\"know\",\"rt\",\"had\",\"buildings\",\"first\",\"world\",\"see\",\"bomb\",\"going\",\"two\",\"nuclear\",\"fires\",\"attack\",\"love\",\"our\",\"today\",\"killed\",\"dead\",\"youtube\",\"year\",\"4\",\"go\",\"5\",\"their\",\"car\",\"here\",\"gt\",\"full\",\"train\",\"hiroshima\",\"life\",\"old\",\"war\",\"being\",\"may\",\"only\",\"accident\",\"down\",\"families\",\"good\",\"think\",\"d\",\"say\",\"watch\",\"2015\",\"she\",\"many\",\"let\",\"last\",\"could\",\"home\",\"did\",\"way\",\"its\",\"want\",\"then\",\"years\",\"too\",\"w\",\"make\",\"collapse\",\"best\",\"death\",\"work\",\"because\",\"mass\",\"please\",\"help\",\"look\",\"even\",\"am\",\"mh370\",\"another\",\"ve\",\"wildfire\",\"army\",\"need\",\"take\",\"lol\",\"really\",\"bombing\",\"should\",\"him\",\"black\",\"those\",\"right\",\"school\",\"\\u0089\\u00fb\",\"fatal\",\"hot\",\"forest\",\"water\",\"obama\",\"8\",\"pm\",\"ll\",\"11\",\"northern\",\"reddit\",\"much\",\"never\",\"live\",\"city\",\"great\",\"bomber\",\"homes\",\"god\",\"where\",\"legionnaires\",\"9\",\"latest\",\"wreck\",\"japan\",\"every\",\"6\",\"any\",\"read\",\"typhoon\",\"atomic\",\"flames\",\"flood\",\"everyone\",\"said\",\"fear\",\"floods\",\"injured\",\"getting\",\"shit\",\"come\",\"ever\",\"under\",\"im\",\"near\",\"top\",\"feel\",\"damage\",\"while\",\"content\",\"cross\",\"oil\",\"most\",\"hope\",\"hit\",\"since\",\"15\",\"military\",\"found\",\"weather\",\"before\",\"stop\",\"10\",\"coming\",\"during\",\"night\",\"ass\",\"without\",\"state\",\"earthquake\",\"next\",\"truck\",\"malaysia\",\"these\",\"debris\",\"wild\",\"evacuation\",\"flooding\",\"plan\",\"little\",\"times\",\"7\",\"which\",\"well\",\"cause\",\"set\",\"movie\",\"smoke\",\"08\",\"thunderstorm\",\"lightning\",\"run\",\"confirmed\",\"through\",\"wounded\",\"face\",\"area\",\"severe\",\"check\",\"heat\",\"looks\",\"high\",\"made\",\"weapon\",\"sinking\",\"food\",\"rain\",\"fucking\",\"bad\",\"explosion\",\"always\",\"warning\",\"hurricane\",\"services\",\"thunder\",\"bloody\",\"says\",\"change\",\"natural\",\"devastated\",\"loud\",\"hail\",\"also\",\"injuries\",\"family\",\"spill\",\"weapons\",\"free\",\"house\",\"liked\",\"70\",\"until\",\"fall\",\"red\",\"screaming\",\"bags\",\"gonna\",\"summer\",\"head\",\"evacuate\",\"someone\",\"blood\",\"refugees\",\"again\",\"photo\",\"missing\",\"injury\",\"boy\",\"fatalities\",\"wind\",\"air\",\"p\",\"rescue\",\"trapped\",\"end\",\"collided\",\"murder\",\"tonight\",\"girl\",\"whole\",\"outbreak\",\"save\",\"harm\",\"failure\",\"sinkhole\",\"released\",\"derailment\",\"attacked\",\"big\",\"wreckage\",\"collision\",\"destroy\",\"explode\",\"panic\",\"survive\",\"real\",\"terrorism\",\"hazard\",\"saudi\",\"breaking\",\"post\",\"40\",\"around\",\"terrorist\",\"ambulance\",\"bag\",\"bridge\",\"week\",\"deaths\",\"destruction\",\"destroyed\",\"o\",\"road\",\"battle\",\"rescuers\",\"survived\",\"n\",\"does\",\"wrecked\",\"windstorm\",\"bombed\",\"game\",\"30\",\"drought\",\"lives\",\"landslide\",\"long\",\"\\u0089\\u00fb\\u00f2\",\"report\",\"charged\",\"twister\",\"rescued\",\"migrants\",\"survivors\",\"keep\",\"05\",\"fuck\",\"burned\",\"story\",\"update\",\"trauma\",\"crush\",\"ruin\",\"boat\",\"self\",\"service\",\"catastrophe\",\"deluge\",\"call\",\"away\",\"women\",\"against\",\"ok\",\"show\",\"displaced\",\"dust\",\"island\",\"white\",\"county\",\"half\",\"phone\",\"crashed\",\"twitter\",\"other\",\"august\",\"curfew\",\"investigators\",\"things\",\"hostages\",\"thing\",\"armageddon\",\"whirlwind\",\"structural\",\"massacre\",\"0\",\"collapsed\",\"put\",\"bus\",\"violent\",\"sandstorm\",\"danger\",\"hazardous\",\"riot\",\"mudslide\",\"bang\",\"engulfed\",\"rioting\",\"screamed\",\"hostage\",\"derailed\",\"tragedy\",\"devastation\",\"traumatised\",\"apocalypse\",\"airplane\",\"woman\",\"quarantine\",\"famine\",\"came\",\"better\",\"chemical\",\"saw\",\"sunk\",\"suspect\",\"drowning\",\"least\",\"wanna\",\"quarantined\",\"heart\",\"inundated\",\"national\",\"screams\",\"cliff\",\"tsunami\",\"horrible\",\"iran\",\"china\",\"mosque\",\"anniversary\",\"blown\",\"stock\",\"light\",\"past\",\"power\",\"wave\",\"desolation\",\"tornado\",\"casualties\",\"heard\",\"bleeding\",\"kills\",\"derail\",\"group\",\"part\",\"oh\",\"exploded\",\"hundreds\",\"must\",\"fedex\",\"left\",\"wounds\",\"lava\",\"tomorrow\",\"electrocuted\",\"meltdown\",\"plane\",\"b\",\"went\",\"catastrophic\",\"flattened\",\"fatality\",\"use\",\"pandemonium\",\"detonate\",\"blew\",\"drown\",\"trouble\",\"affected\",\"00\",\"calgary\",\"st\",\"zone\",\"evacuated\",\"thank\",\"razed\",\"demolition\",\"lot\",\"caused\",\"hijacker\",\"hellfire\",\"bagging\",\"demolish\",\"bioterror\",\"murderer\",\"collide\",\"land\",\"soon\",\"something\",\"reunion\",\"panicking\",\"ebay\",\"hijacking\",\"blazing\",\"possible\",\"very\",\"r\",\"song\",\"river\",\"rainstorm\",\"cool\",\"siren\",\"baby\",\"casualty\",\"send\",\"isis\",\"market\",\"sure\",\"minute\",\"cyclone\",\"kids\",\"kill\",\"traffic\",\"doing\",\"detonated\",\"crushed\",\"beautiful\",\"care\",\"obliterated\",\"longer\",\"three\",\"south\",\"c\",\"drowned\",\"responders\",\"due\",\"thought\",\"e\",\"government\",\"india\",\"annihilated\",\"goes\",\"detonation\",\"pkk\",\"officials\",\"security\",\"volcano\",\"arson\",\"thanks\",\"shoulder\",\"prebreak\",\"sound\",\"nothing\",\"issues\",\"yet\",\"obliteration\",\"ur\",\"bush\",\"same\",\"men\",\"music\",\"electrocute\",\"officer\",\"demolished\",\"airport\",\"fan\",\"blast\",\"used\",\"stay\",\"building\",\"obliterate\",\"lt\",\"50\",\"start\",\"shooting\",\"fight\",\"done\",\"few\",\"believe\",\"making\",\"upheaval\",\"16\",\"days\",\"eyewitness\",\"fun\",\"remember\",\"already\",\"hours\",\"media\",\"israeli\",\"having\",\"turkey\",\"16yr\",\"wake\",\"hijack\",\"seismic\",\"actually\",\"blight\",\"sue\",\"words\",\"far\",\"ablaze\",\"snowstorm\",\"person\",\"died\",\"leave\",\"inside\",\"policy\",\"mp\",\"sirens\",\"such\",\"bioterrorism\",\"pic\",\"reactor\",\"deluged\",\"order\",\"second\",\"25\",\"lab\",\"06\",\"site\",\"stretcher\",\"stand\",\"nearby\",\"avalanche\",\"support\",\"shot\",\"die\",\"line\",\"ago\",\"play\",\"yes\",\"re\\u0089\\u00fb\",\"health\",\"abc\",\"both\",\"declares\",\"trying\",\"peace\",\"north\",\"tv\",\"guys\",\"brown\",\"won\",\"america\",\"anything\",\"plans\",\"yourself\",\"rubble\",\"islam\",\"horror\",\"gets\",\"history\",\"01\",\"swallowed\",\"\\u0089\\u00fb\\u00f3\",\"wait\",\"doesn\",\"children\",\"soudelor\",\"x\",\"low\",\"place\",\"deal\",\"find\",\"nowplaying\",\"lost\",\"saipan\",\"aircraft\",\"maybe\",\"hey\",\"job\",\"own\",\"memories\",\"rise\",\"almost\",\"photos\",\"hat\",\"bc\",\"yeah\",\"tell\",\"desolate\",\"west\",\"didn\",\"american\",\"conclusively\",\"outside\",\"data\",\"business\",\"watching\",\"helicopter\",\"country\",\"bigger\",\"anyone\",\"happy\",\"literally\",\"center\",\"waves\",\"reuters\",\"control\",\"blizzard\",\"20\",\"pakistan\",\"book\",\"bestnaijamade\",\"crews\",\"hear\",\"projected\",\"pick\",\"searching\",\"bodies\",\"makes\",\"transport\",\"street\",\"hell\",\"bar\",\"money\",\"listen\",\"team\",\"side\",\"trains\",\"amid\",\"property\",\"might\",\"manslaughter\",\"pretty\",\"rd\",\"damn\",\"online\",\"move\",\"morning\",\"hollywood\",\"probably\",\"blaze\",\"finally\",\"eyes\",\"though\",\"guy\",\"feeling\",\"saved\",\"effect\",\"myself\",\"12\",\"aug\",\"signs\",\"everything\",\"space\",\"sorry\",\"okay\",\"spot\",\"crisis\",\"feared\",\"13\",\"once\",\"aftershock\",\"costlier\",\"refugio\",\"sensor\",\"wrong\",\"name\",\"mom\",\"youth\",\"caught\",\"la\",\"major\",\"nearly\",\"annihilation\",\"case\",\"image\",\"child\",\"miners\",\"hate\",\"seen\",\"trench\",\"town\",\"leather\",\"17\",\"fast\",\"arsonist\",\"hailstorm\",\"daily\",\"jobs\",\"angry\",\"texas\",\"course\",\"omg\",\"offensive\",\"fukushima\",\"wow\",\"cars\",\"vehicle\",\"ball\",\"lord\",\"banned\",\"usa\",\"crazy\",\"called\",\"60\",\"huge\",\"giant\",\"flag\",\"class\",\"ship\",\"flash\",\"russian\",\"mayhem\",\"needs\",\"picking\",\"worst\",\"knock\",\"level\",\"reason\",\"dont\",\"east\",\"hard\",\"gun\",\"closed\",\"official\",\"sign\",\"ignition\",\"follow\",\"blue\",\"entire\",\"heavy\",\"pay\",\"action\",\"uk\",\"isn\",\"toddler\",\"meek\",\"united\",\"poor\",\"others\",\"anthrax\",\"looking\",\"bbc\",\"haha\",\"across\",\"computers\",\"win\",\"houses\",\"chance\",\"become\",\"cnn\",\"talk\",\"star\",\"friends\",\"link\",\"gbbo\",\"running\",\"temple\",\"muslims\",\"christian\",\"emmerdale\",\"mount\",\"appears\",\"takes\",\"learn\",\"alarm\",\"truth\",\"village\",\"declaration\",\"pain\",\"yours\",\"disea\",\"beach\",\"myanmar\",\"public\",\"view\",\"alone\",\"wanted\",\"chicago\",\"couple\",\"cake\",\"radio\",\"eye\",\"taken\",\"totally\",\"issued\",\"thousands\",\"ladies\",\"drive\",\"else\",\"18\",\"playing\",\"australia\",\"try\",\"drake\",\"happened\",\"24\",\"climate\",\"mishaps\",\"ca\",\"100\",\"mad\",\"reports\",\"centre\",\"vs\",\"ain\",\"dog\",\"\\u0089\\u00fb\\u00ef\",\"nagasaki\",\"virgin\",\"marks\",\"global\",\"ready\",\"flight\",\"instead\",\"favorite\",\"coaches\",\"chile\",\"thursday\",\"womens\",\"quiz\",\"early\",\"insurance\",\"driving\",\"info\",\"front\",\"experts\",\"till\",\"human\",\"trust\",\"film\",\"green\",\"mph\",\"france\",\"sea\",\"germs\",\"friend\",\"large\",\"downtown\",\"camp\",\"british\",\"date\",\"funtenna\",\"gop\",\"behind\",\"russia\",\"turn\",\"true\",\"download\",\"rock\",\"miss\",\"israel\",\"moment\",\"subreddits\",\"libya\",\"hiring\",\"ancient\"]]]}}},\"view\":{\"type\":\"object\",\"name\":\"CDSView\",\"id\":\"p1141\",\"attributes\":{\"filter\":{\"type\":\"object\",\"name\":\"AllIndices\",\"id\":\"p1142\"}}},\"glyph\":{\"type\":\"object\",\"name\":\"Scatter\",\"id\":\"p1137\",\"attributes\":{\"x\":{\"type\":\"field\",\"field\":\"x\"},\"y\":{\"type\":\"field\",\"field\":\"y\"},\"size\":{\"type\":\"value\",\"value\":10},\"line_color\":{\"type\":\"field\",\"field\":\"color\"},\"line_alpha\":{\"type\":\"value\",\"value\":0.25},\"fill_color\":{\"type\":\"field\",\"field\":\"color\"},\"fill_alpha\":{\"type\":\"value\",\"value\":0.25},\"hatch_color\":{\"type\":\"field\",\"field\":\"color\"},\"hatch_alpha\":{\"type\":\"value\",\"value\":0.25}}},\"nonselection_glyph\":{\"type\":\"object\",\"name\":\"Scatter\",\"id\":\"p1138\",\"attributes\":{\"x\":{\"type\":\"field\",\"field\":\"x\"},\"y\":{\"type\":\"field\",\"field\":\"y\"},\"size\":{\"type\":\"value\",\"value\":10},\"line_color\":{\"type\":\"field\",\"field\":\"color\"},\"line_alpha\":{\"type\":\"value\",\"value\":0.1},\"fill_color\":{\"type\":\"field\",\"field\":\"color\"},\"fill_alpha\":{\"type\":\"value\",\"value\":0.1},\"hatch_color\":{\"type\":\"field\",\"field\":\"color\"},\"hatch_alpha\":{\"type\":\"value\",\"value\":0.1}}},\"muted_glyph\":{\"type\":\"object\",\"name\":\"Scatter\",\"id\":\"p1139\",\"attributes\":{\"x\":{\"type\":\"field\",\"field\":\"x\"},\"y\":{\"type\":\"field\",\"field\":\"y\"},\"size\":{\"type\":\"value\",\"value\":10},\"line_color\":{\"type\":\"field\",\"field\":\"color\"},\"line_alpha\":{\"type\":\"value\",\"value\":0.2},\"fill_color\":{\"type\":\"field\",\"field\":\"color\"},\"fill_alpha\":{\"type\":\"value\",\"value\":0.2},\"hatch_color\":{\"type\":\"field\",\"field\":\"color\"},\"hatch_alpha\":{\"type\":\"value\",\"value\":0.2}}}}}],\"toolbar\":{\"type\":\"object\",\"name\":\"Toolbar\",\"id\":\"p1110\",\"attributes\":{\"tools\":[{\"type\":\"object\",\"name\":\"PanTool\",\"id\":\"p1123\"},{\"type\":\"object\",\"name\":\"WheelZoomTool\",\"id\":\"p1124\",\"attributes\":{\"renderers\":\"auto\"}},{\"type\":\"object\",\"name\":\"BoxZoomTool\",\"id\":\"p1125\",\"attributes\":{\"overlay\":{\"type\":\"object\",\"name\":\"BoxAnnotation\",\"id\":\"p1126\",\"attributes\":{\"syncable\":false,\"level\":\"overlay\",\"visible\":false,\"left\":{\"type\":\"number\",\"value\":\"nan\"},\"right\":{\"type\":\"number\",\"value\":\"nan\"},\"top\":{\"type\":\"number\",\"value\":\"nan\"},\"bottom\":{\"type\":\"number\",\"value\":\"nan\"},\"left_units\":\"canvas\",\"right_units\":\"canvas\",\"top_units\":\"canvas\",\"bottom_units\":\"canvas\",\"line_color\":\"black\",\"line_alpha\":1.0,\"line_width\":2,\"line_dash\":[4,4],\"fill_color\":\"lightgrey\",\"fill_alpha\":0.5}}}},{\"type\":\"object\",\"name\":\"SaveTool\",\"id\":\"p1131\"},{\"type\":\"object\",\"name\":\"ResetTool\",\"id\":\"p1132\"},{\"type\":\"object\",\"name\":\"HelpTool\",\"id\":\"p1133\"},{\"type\":\"object\",\"name\":\"HoverTool\",\"id\":\"p1143\",\"attributes\":{\"renderers\":\"auto\",\"tooltips\":[[\"token\",\"@token\"]]}}],\"active_scroll\":{\"id\":\"p1124\"}}},\"left\":[{\"type\":\"object\",\"name\":\"LinearAxis\",\"id\":\"p1118\",\"attributes\":{\"ticker\":{\"type\":\"object\",\"name\":\"BasicTicker\",\"id\":\"p1119\",\"attributes\":{\"mantissas\":[1,2,5]}},\"formatter\":{\"type\":\"object\",\"name\":\"BasicTickFormatter\",\"id\":\"p1120\"},\"major_label_policy\":{\"type\":\"object\",\"name\":\"AllLabels\",\"id\":\"p1121\"}}}],\"below\":[{\"type\":\"object\",\"name\":\"LinearAxis\",\"id\":\"p1113\",\"attributes\":{\"ticker\":{\"type\":\"object\",\"name\":\"BasicTicker\",\"id\":\"p1114\",\"attributes\":{\"mantissas\":[1,2,5]}},\"formatter\":{\"type\":\"object\",\"name\":\"BasicTickFormatter\",\"id\":\"p1115\"},\"major_label_policy\":{\"type\":\"object\",\"name\":\"AllLabels\",\"id\":\"p1116\"}}}],\"center\":[{\"type\":\"object\",\"name\":\"Grid\",\"id\":\"p1117\",\"attributes\":{\"axis\":{\"id\":\"p1113\"}}},{\"type\":\"object\",\"name\":\"Grid\",\"id\":\"p1122\",\"attributes\":{\"dimension\":1,\"axis\":{\"id\":\"p1118\"}}}]}}]}};\n  const render_items = [{\"docid\":\"4fd57f18-6813-4aa7-9169-65e68a854df1\",\"roots\":{\"p1102\":\"afd38d29-7e86-4ee2-9e5f-39907f13c21b\"},\"root_ids\":[\"p1102\"]}];\n  root.Bokeh.embed.embed_items_notebook(docs_json, render_items);\n  }\n  if (root.Bokeh !== undefined) {\n    embed_document(root);\n  } else {\n    let attempts = 0;\n    const timer = setInterval(function(root) {\n      if (root.Bokeh !== undefined) {\n        clearInterval(timer);\n        embed_document(root);\n      } else {\n        attempts++;\n        if (attempts > 100) {\n          clearInterval(timer);\n          console.log(\"Bokeh: ERROR: Unable to run BokehJS code because BokehJS library is missing\");\n        }\n      }\n    }, 10, root)\n  }\n})(window);",
      "application/vnd.bokehjs_exec.v0+json": ""
     },
     "metadata": {
      "application/vnd.bokehjs_exec.v0+json": {
       "id": "p1102"
      }
     },
     "output_type": "display_data"
    },
    {
     "data": {
      "text/html": [
       "<div style=\"display: table;\"><div style=\"display: table-row;\"><div style=\"display: table-cell;\"><b title=\"bokeh.plotting._figure.figure\">figure</b>(</div><div style=\"display: table-cell;\">id&nbsp;=&nbsp;'p1102', <span id=\"p1147\" style=\"cursor: pointer;\">&hellip;)</span></div></div><div class=\"p1146\" style=\"display: none;\"><div style=\"display: table-cell;\"></div><div style=\"display: table-cell;\">above&nbsp;=&nbsp;[],</div></div><div class=\"p1146\" style=\"display: none;\"><div style=\"display: table-cell;\"></div><div style=\"display: table-cell;\">align&nbsp;=&nbsp;'auto',</div></div><div class=\"p1146\" style=\"display: none;\"><div style=\"display: table-cell;\"></div><div style=\"display: table-cell;\">aspect_ratio&nbsp;=&nbsp;None,</div></div><div class=\"p1146\" style=\"display: none;\"><div style=\"display: table-cell;\"></div><div style=\"display: table-cell;\">aspect_scale&nbsp;=&nbsp;1,</div></div><div class=\"p1146\" style=\"display: none;\"><div style=\"display: table-cell;\"></div><div style=\"display: table-cell;\">background_fill_alpha&nbsp;=&nbsp;1.0,</div></div><div class=\"p1146\" style=\"display: none;\"><div style=\"display: table-cell;\"></div><div style=\"display: table-cell;\">background_fill_color&nbsp;=&nbsp;'#ffffff',</div></div><div class=\"p1146\" style=\"display: none;\"><div style=\"display: table-cell;\"></div><div style=\"display: table-cell;\">below&nbsp;=&nbsp;[LinearAxis(id='p1113', ...)],</div></div><div class=\"p1146\" style=\"display: none;\"><div style=\"display: table-cell;\"></div><div style=\"display: table-cell;\">border_fill_alpha&nbsp;=&nbsp;1.0,</div></div><div class=\"p1146\" style=\"display: none;\"><div style=\"display: table-cell;\"></div><div style=\"display: table-cell;\">border_fill_color&nbsp;=&nbsp;'#ffffff',</div></div><div class=\"p1146\" style=\"display: none;\"><div style=\"display: table-cell;\"></div><div style=\"display: table-cell;\">center&nbsp;=&nbsp;[Grid(id='p1117', ...), Grid(id='p1122', ...)],</div></div><div class=\"p1146\" style=\"display: none;\"><div style=\"display: table-cell;\"></div><div style=\"display: table-cell;\">context_menu&nbsp;=&nbsp;None,</div></div><div class=\"p1146\" style=\"display: none;\"><div style=\"display: table-cell;\"></div><div style=\"display: table-cell;\">css_classes&nbsp;=&nbsp;[],</div></div><div class=\"p1146\" style=\"display: none;\"><div style=\"display: table-cell;\"></div><div style=\"display: table-cell;\">disabled&nbsp;=&nbsp;False,</div></div><div class=\"p1146\" style=\"display: none;\"><div style=\"display: table-cell;\"></div><div style=\"display: table-cell;\">extra_x_ranges&nbsp;=&nbsp;{},</div></div><div class=\"p1146\" style=\"display: none;\"><div style=\"display: table-cell;\"></div><div style=\"display: table-cell;\">extra_x_scales&nbsp;=&nbsp;{},</div></div><div class=\"p1146\" style=\"display: none;\"><div style=\"display: table-cell;\"></div><div style=\"display: table-cell;\">extra_y_ranges&nbsp;=&nbsp;{},</div></div><div class=\"p1146\" style=\"display: none;\"><div style=\"display: table-cell;\"></div><div style=\"display: table-cell;\">extra_y_scales&nbsp;=&nbsp;{},</div></div><div class=\"p1146\" style=\"display: none;\"><div style=\"display: table-cell;\"></div><div style=\"display: table-cell;\">flow_mode&nbsp;=&nbsp;'block',</div></div><div class=\"p1146\" style=\"display: none;\"><div style=\"display: table-cell;\"></div><div style=\"display: table-cell;\">frame_align&nbsp;=&nbsp;True,</div></div><div class=\"p1146\" style=\"display: none;\"><div style=\"display: table-cell;\"></div><div style=\"display: table-cell;\">frame_height&nbsp;=&nbsp;None,</div></div><div class=\"p1146\" style=\"display: none;\"><div style=\"display: table-cell;\"></div><div style=\"display: table-cell;\">frame_width&nbsp;=&nbsp;None,</div></div><div class=\"p1146\" style=\"display: none;\"><div style=\"display: table-cell;\"></div><div style=\"display: table-cell;\">height&nbsp;=&nbsp;400,</div></div><div class=\"p1146\" style=\"display: none;\"><div style=\"display: table-cell;\"></div><div style=\"display: table-cell;\">height_policy&nbsp;=&nbsp;'auto',</div></div><div class=\"p1146\" style=\"display: none;\"><div style=\"display: table-cell;\"></div><div style=\"display: table-cell;\">hidpi&nbsp;=&nbsp;True,</div></div><div class=\"p1146\" style=\"display: none;\"><div style=\"display: table-cell;\"></div><div style=\"display: table-cell;\">hold_render&nbsp;=&nbsp;False,</div></div><div class=\"p1146\" style=\"display: none;\"><div style=\"display: table-cell;\"></div><div style=\"display: table-cell;\">js_event_callbacks&nbsp;=&nbsp;{},</div></div><div class=\"p1146\" style=\"display: none;\"><div style=\"display: table-cell;\"></div><div style=\"display: table-cell;\">js_property_callbacks&nbsp;=&nbsp;{},</div></div><div class=\"p1146\" style=\"display: none;\"><div style=\"display: table-cell;\"></div><div style=\"display: table-cell;\">left&nbsp;=&nbsp;[LinearAxis(id='p1118', ...)],</div></div><div class=\"p1146\" style=\"display: none;\"><div style=\"display: table-cell;\"></div><div style=\"display: table-cell;\">lod_factor&nbsp;=&nbsp;10,</div></div><div class=\"p1146\" style=\"display: none;\"><div style=\"display: table-cell;\"></div><div style=\"display: table-cell;\">lod_interval&nbsp;=&nbsp;300,</div></div><div class=\"p1146\" style=\"display: none;\"><div style=\"display: table-cell;\"></div><div style=\"display: table-cell;\">lod_threshold&nbsp;=&nbsp;2000,</div></div><div class=\"p1146\" style=\"display: none;\"><div style=\"display: table-cell;\"></div><div style=\"display: table-cell;\">lod_timeout&nbsp;=&nbsp;500,</div></div><div class=\"p1146\" style=\"display: none;\"><div style=\"display: table-cell;\"></div><div style=\"display: table-cell;\">margin&nbsp;=&nbsp;None,</div></div><div class=\"p1146\" style=\"display: none;\"><div style=\"display: table-cell;\"></div><div style=\"display: table-cell;\">match_aspect&nbsp;=&nbsp;False,</div></div><div class=\"p1146\" style=\"display: none;\"><div style=\"display: table-cell;\"></div><div style=\"display: table-cell;\">max_height&nbsp;=&nbsp;None,</div></div><div class=\"p1146\" style=\"display: none;\"><div style=\"display: table-cell;\"></div><div style=\"display: table-cell;\">max_width&nbsp;=&nbsp;None,</div></div><div class=\"p1146\" style=\"display: none;\"><div style=\"display: table-cell;\"></div><div style=\"display: table-cell;\">min_border&nbsp;=&nbsp;5,</div></div><div class=\"p1146\" style=\"display: none;\"><div style=\"display: table-cell;\"></div><div style=\"display: table-cell;\">min_border_bottom&nbsp;=&nbsp;None,</div></div><div class=\"p1146\" style=\"display: none;\"><div style=\"display: table-cell;\"></div><div style=\"display: table-cell;\">min_border_left&nbsp;=&nbsp;None,</div></div><div class=\"p1146\" style=\"display: none;\"><div style=\"display: table-cell;\"></div><div style=\"display: table-cell;\">min_border_right&nbsp;=&nbsp;None,</div></div><div class=\"p1146\" style=\"display: none;\"><div style=\"display: table-cell;\"></div><div style=\"display: table-cell;\">min_border_top&nbsp;=&nbsp;None,</div></div><div class=\"p1146\" style=\"display: none;\"><div style=\"display: table-cell;\"></div><div style=\"display: table-cell;\">min_height&nbsp;=&nbsp;None,</div></div><div class=\"p1146\" style=\"display: none;\"><div style=\"display: table-cell;\"></div><div style=\"display: table-cell;\">min_width&nbsp;=&nbsp;None,</div></div><div class=\"p1146\" style=\"display: none;\"><div style=\"display: table-cell;\"></div><div style=\"display: table-cell;\">name&nbsp;=&nbsp;None,</div></div><div class=\"p1146\" style=\"display: none;\"><div style=\"display: table-cell;\"></div><div style=\"display: table-cell;\">outline_line_alpha&nbsp;=&nbsp;1.0,</div></div><div class=\"p1146\" style=\"display: none;\"><div style=\"display: table-cell;\"></div><div style=\"display: table-cell;\">outline_line_cap&nbsp;=&nbsp;'butt',</div></div><div class=\"p1146\" style=\"display: none;\"><div style=\"display: table-cell;\"></div><div style=\"display: table-cell;\">outline_line_color&nbsp;=&nbsp;'#e5e5e5',</div></div><div class=\"p1146\" style=\"display: none;\"><div style=\"display: table-cell;\"></div><div style=\"display: table-cell;\">outline_line_dash&nbsp;=&nbsp;[],</div></div><div class=\"p1146\" style=\"display: none;\"><div style=\"display: table-cell;\"></div><div style=\"display: table-cell;\">outline_line_dash_offset&nbsp;=&nbsp;0,</div></div><div class=\"p1146\" style=\"display: none;\"><div style=\"display: table-cell;\"></div><div style=\"display: table-cell;\">outline_line_join&nbsp;=&nbsp;'bevel',</div></div><div class=\"p1146\" style=\"display: none;\"><div style=\"display: table-cell;\"></div><div style=\"display: table-cell;\">outline_line_width&nbsp;=&nbsp;1,</div></div><div class=\"p1146\" style=\"display: none;\"><div style=\"display: table-cell;\"></div><div style=\"display: table-cell;\">output_backend&nbsp;=&nbsp;'canvas',</div></div><div class=\"p1146\" style=\"display: none;\"><div style=\"display: table-cell;\"></div><div style=\"display: table-cell;\">renderers&nbsp;=&nbsp;[GlyphRenderer(id='p1140', ...)],</div></div><div class=\"p1146\" style=\"display: none;\"><div style=\"display: table-cell;\"></div><div style=\"display: table-cell;\">reset_policy&nbsp;=&nbsp;'standard',</div></div><div class=\"p1146\" style=\"display: none;\"><div style=\"display: table-cell;\"></div><div style=\"display: table-cell;\">resizable&nbsp;=&nbsp;False,</div></div><div class=\"p1146\" style=\"display: none;\"><div style=\"display: table-cell;\"></div><div style=\"display: table-cell;\">right&nbsp;=&nbsp;[],</div></div><div class=\"p1146\" style=\"display: none;\"><div style=\"display: table-cell;\"></div><div style=\"display: table-cell;\">sizing_mode&nbsp;=&nbsp;None,</div></div><div class=\"p1146\" style=\"display: none;\"><div style=\"display: table-cell;\"></div><div style=\"display: table-cell;\">styles&nbsp;=&nbsp;{},</div></div><div class=\"p1146\" style=\"display: none;\"><div style=\"display: table-cell;\"></div><div style=\"display: table-cell;\">stylesheets&nbsp;=&nbsp;[],</div></div><div class=\"p1146\" style=\"display: none;\"><div style=\"display: table-cell;\"></div><div style=\"display: table-cell;\">subscribed_events&nbsp;=&nbsp;PropertyValueSet(),</div></div><div class=\"p1146\" style=\"display: none;\"><div style=\"display: table-cell;\"></div><div style=\"display: table-cell;\">syncable&nbsp;=&nbsp;True,</div></div><div class=\"p1146\" style=\"display: none;\"><div style=\"display: table-cell;\"></div><div style=\"display: table-cell;\">tags&nbsp;=&nbsp;[],</div></div><div class=\"p1146\" style=\"display: none;\"><div style=\"display: table-cell;\"></div><div style=\"display: table-cell;\">title&nbsp;=&nbsp;Title(id='p1109', ...),</div></div><div class=\"p1146\" style=\"display: none;\"><div style=\"display: table-cell;\"></div><div style=\"display: table-cell;\">title_location&nbsp;=&nbsp;'above',</div></div><div class=\"p1146\" style=\"display: none;\"><div style=\"display: table-cell;\"></div><div style=\"display: table-cell;\">toolbar&nbsp;=&nbsp;Toolbar(id='p1110', ...),</div></div><div class=\"p1146\" style=\"display: none;\"><div style=\"display: table-cell;\"></div><div style=\"display: table-cell;\">toolbar_inner&nbsp;=&nbsp;False,</div></div><div class=\"p1146\" style=\"display: none;\"><div style=\"display: table-cell;\"></div><div style=\"display: table-cell;\">toolbar_location&nbsp;=&nbsp;'right',</div></div><div class=\"p1146\" style=\"display: none;\"><div style=\"display: table-cell;\"></div><div style=\"display: table-cell;\">toolbar_sticky&nbsp;=&nbsp;True,</div></div><div class=\"p1146\" style=\"display: none;\"><div style=\"display: table-cell;\"></div><div style=\"display: table-cell;\">visible&nbsp;=&nbsp;True,</div></div><div class=\"p1146\" style=\"display: none;\"><div style=\"display: table-cell;\"></div><div style=\"display: table-cell;\">width&nbsp;=&nbsp;600,</div></div><div class=\"p1146\" style=\"display: none;\"><div style=\"display: table-cell;\"></div><div style=\"display: table-cell;\">width_policy&nbsp;=&nbsp;'auto',</div></div><div class=\"p1146\" style=\"display: none;\"><div style=\"display: table-cell;\"></div><div style=\"display: table-cell;\">x_range&nbsp;=&nbsp;DataRange1d(id='p1103', ...),</div></div><div class=\"p1146\" style=\"display: none;\"><div style=\"display: table-cell;\"></div><div style=\"display: table-cell;\">x_scale&nbsp;=&nbsp;LinearScale(id='p1111', ...),</div></div><div class=\"p1146\" style=\"display: none;\"><div style=\"display: table-cell;\"></div><div style=\"display: table-cell;\">y_range&nbsp;=&nbsp;DataRange1d(id='p1104', ...),</div></div><div class=\"p1146\" style=\"display: none;\"><div style=\"display: table-cell;\"></div><div style=\"display: table-cell;\">y_scale&nbsp;=&nbsp;LinearScale(id='p1112', ...))</div></div></div>\n",
       "<script>\n",
       "(function() {\n",
       "  let expanded = false;\n",
       "  const ellipsis = document.getElementById(\"p1147\");\n",
       "  ellipsis.addEventListener(\"click\", function() {\n",
       "    const rows = document.getElementsByClassName(\"p1146\");\n",
       "    for (let i = 0; i < rows.length; i++) {\n",
       "      const el = rows[i];\n",
       "      el.style.display = expanded ? \"none\" : \"table-row\";\n",
       "    }\n",
       "    ellipsis.innerHTML = expanded ? \"&hellip;)\" : \"&lsaquo;&lsaquo;&lsaquo;\";\n",
       "    expanded = !expanded;\n",
       "  });\n",
       "})();\n",
       "</script>\n"
      ],
      "text/plain": [
       "figure(id='p1102', ...)"
      ]
     },
     "execution_count": 249,
     "metadata": {},
     "output_type": "execute_result"
    }
   ],
   "source": [
    "draw_vectors(word_vectors_pca[:, 0], word_vectors_pca[:, 1], token=words)\n"
   ]
  },
  {
   "cell_type": "markdown",
   "metadata": {},
   "source": [
    "Now let's try t-SNE."
   ]
  },
  {
   "cell_type": "code",
   "execution_count": 250,
   "metadata": {},
   "outputs": [],
   "source": [
    "word_vectors = np.array(word_vectors)"
   ]
  },
  {
   "cell_type": "code",
   "execution_count": 251,
   "metadata": {},
   "outputs": [],
   "source": [
    "from sklearn.manifold import TSNE\n",
    "\n",
    "vectors_tsne = TSNE(n_components=2, learning_rate='auto', init='random', perplexity=3).fit_transform(word_vectors)"
   ]
  },
  {
   "cell_type": "code",
   "execution_count": 252,
   "metadata": {},
   "outputs": [
    {
     "data": {
      "text/html": [
       "\n",
       "  <div id=\"ed536982-8102-428a-bf6f-99071eea014d\" data-root-id=\"p1151\" style=\"display: contents;\"></div>\n"
      ]
     },
     "metadata": {},
     "output_type": "display_data"
    },
    {
     "data": {
      "application/javascript": "(function(root) {\n  function embed_document(root) {\n  const docs_json = {\"e527b45e-2b8a-4d1b-861b-b0f2748acf1b\":{\"version\":\"3.3.2\",\"title\":\"Bokeh Application\",\"roots\":[{\"type\":\"object\",\"name\":\"Figure\",\"id\":\"p1151\",\"attributes\":{\"height\":400,\"x_range\":{\"type\":\"object\",\"name\":\"DataRange1d\",\"id\":\"p1152\"},\"y_range\":{\"type\":\"object\",\"name\":\"DataRange1d\",\"id\":\"p1153\"},\"x_scale\":{\"type\":\"object\",\"name\":\"LinearScale\",\"id\":\"p1160\"},\"y_scale\":{\"type\":\"object\",\"name\":\"LinearScale\",\"id\":\"p1161\"},\"title\":{\"type\":\"object\",\"name\":\"Title\",\"id\":\"p1158\"},\"renderers\":[{\"type\":\"object\",\"name\":\"GlyphRenderer\",\"id\":\"p1189\",\"attributes\":{\"data_source\":{\"type\":\"object\",\"name\":\"ColumnDataSource\",\"id\":\"p1148\",\"attributes\":{\"selected\":{\"type\":\"object\",\"name\":\"Selection\",\"id\":\"p1149\",\"attributes\":{\"indices\":[],\"line_indices\":[]}},\"selection_policy\":{\"type\":\"object\",\"name\":\"UnionRenderers\",\"id\":\"p1150\"},\"data\":{\"type\":\"map\",\"entries\":[[\"x\",{\"type\":\"ndarray\",\"array\":{\"type\":\"bytes\",\"data\":\"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\"},\"shape\":[1000],\"dtype\":\"float32\",\"order\":\"little\"}],[\"y\",{\"type\":\"ndarray\",\"array\":{\"type\":\"bytes\",\"data\":\"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\"},\"shape\":[1000],\"dtype\":\"float32\",\"order\":\"little\"}],[\"color\",[\"blue\",\"blue\",\"blue\",\"blue\",\"blue\",\"blue\",\"blue\",\"blue\",\"blue\",\"blue\",\"blue\",\"blue\",\"blue\",\"blue\",\"blue\",\"blue\",\"blue\",\"blue\",\"blue\",\"blue\",\"blue\",\"blue\",\"blue\",\"blue\",\"blue\",\"blue\",\"blue\",\"blue\",\"blue\",\"blue\",\"blue\",\"blue\",\"blue\",\"blue\",\"blue\",\"blue\",\"blue\",\"blue\",\"blue\",\"blue\",\"blue\",\"blue\",\"blue\",\"blue\",\"blue\",\"blue\",\"blue\",\"blue\",\"blue\",\"blue\",\"blue\",\"blue\",\"blue\",\"blue\",\"blue\",\"blue\",\"blue\",\"blue\",\"blue\",\"blue\",\"blue\",\"blue\",\"blue\",\"blue\",\"blue\",\"blue\",\"blue\",\"blue\",\"blue\",\"blue\",\"blue\",\"blue\",\"blue\",\"blue\",\"blue\",\"blue\",\"blue\",\"blue\",\"blue\",\"blue\",\"blue\",\"blue\",\"blue\",\"blue\",\"blue\",\"blue\",\"blue\",\"blue\",\"blue\",\"blue\",\"blue\",\"blue\",\"blue\",\"blue\",\"blue\",\"blue\",\"blue\",\"blue\",\"blue\",\"blue\",\"blue\",\"blue\",\"blue\",\"blue\",\"blue\",\"blue\",\"blue\",\"blue\",\"blue\",\"blue\",\"blue\",\"blue\",\"blue\",\"blue\",\"blue\",\"blue\",\"blue\",\"blue\",\"blue\",\"blue\",\"blue\",\"blue\",\"blue\",\"blue\",\"blue\",\"blue\",\"blue\",\"blue\",\"blue\",\"blue\",\"blue\",\"blue\",\"blue\",\"blue\",\"blue\",\"blue\",\"blue\",\"blue\",\"blue\",\"blue\",\"blue\",\"blue\",\"blue\",\"blue\",\"blue\",\"blue\",\"blue\",\"blue\",\"blue\",\"blue\",\"blue\",\"blue\",\"blue\",\"blue\",\"blue\",\"blue\",\"blue\",\"blue\",\"blue\",\"blue\",\"blue\",\"blue\",\"blue\",\"blue\",\"blue\",\"blue\",\"blue\",\"blue\",\"blue\",\"blue\",\"blue\",\"blue\",\"blue\",\"blue\",\"blue\",\"blue\",\"blue\",\"blue\",\"blue\",\"blue\",\"blue\",\"blue\",\"blue\",\"blue\",\"blue\",\"blue\",\"blue\",\"blue\",\"blue\",\"blue\",\"blue\",\"blue\",\"blue\",\"blue\",\"blue\",\"blue\",\"blue\",\"blue\",\"blue\",\"blue\",\"blue\",\"blue\",\"blue\",\"blue\",\"blue\",\"blue\",\"blue\",\"blue\",\"blue\",\"blue\",\"blue\",\"blue\",\"blue\",\"blue\",\"blue\",\"blue\",\"blue\",\"blue\",\"blue\",\"blue\",\"blue\",\"blue\",\"blue\",\"blue\",\"blue\",\"blue\",\"blue\",\"blue\",\"blue\",\"blue\",\"blue\",\"blue\",\"blue\",\"blue\",\"blue\",\"blue\",\"blue\",\"blue\",\"blue\",\"blue\",\"blue\",\"blue\",\"blue\",\"blue\",\"blue\",\"blue\",\"blue\",\"blue\",\"blue\",\"blue\",\"blue\",\"blue\",\"blue\",\"blue\",\"blue\",\"blue\",\"blue\",\"blue\",\"blue\",\"blue\",\"blue\",\"blue\",\"blue\",\"blue\",\"blue\",\"blue\",\"blue\",\"blue\",\"blue\",\"blue\",\"blue\",\"blue\",\"blue\",\"blue\",\"blue\",\"blue\",\"blue\",\"blue\",\"blue\",\"blue\",\"blue\",\"blue\",\"blue\",\"blue\",\"blue\",\"blue\",\"blue\",\"blue\",\"blue\",\"blue\",\"blue\",\"blue\",\"blue\",\"blue\",\"blue\",\"blue\",\"blue\",\"blue\",\"blue\",\"blue\",\"blue\",\"blue\",\"blue\",\"blue\",\"blue\",\"blue\",\"blue\",\"blue\",\"blue\",\"blue\",\"blue\",\"blue\",\"blue\",\"blue\",\"blue\",\"blue\",\"blue\",\"blue\",\"blue\",\"blue\",\"blue\",\"blue\",\"blue\",\"blue\",\"blue\",\"blue\",\"blue\",\"blue\",\"blue\",\"blue\",\"blue\",\"blue\",\"blue\",\"blue\",\"blue\",\"blue\",\"blue\",\"blue\",\"blue\",\"blue\",\"blue\",\"blue\",\"blue\",\"blue\",\"blue\",\"blue\",\"blue\",\"blue\",\"blue\",\"blue\",\"blue\",\"blue\",\"blue\",\"blue\",\"blue\",\"blue\",\"blue\",\"blue\",\"blue\",\"blue\",\"blue\",\"blue\",\"blue\",\"blue\",\"blue\",\"blue\",\"blue\",\"blue\",\"blue\",\"blue\",\"blue\",\"blue\",\"blue\",\"blue\",\"blue\",\"blue\",\"blue\",\"blue\",\"blue\",\"blue\",\"blue\",\"blue\",\"blue\",\"blue\",\"blue\",\"blue\",\"blue\",\"blue\",\"blue\",\"blue\",\"blue\",\"blue\",\"blue\",\"blue\",\"blue\",\"blue\",\"blue\",\"blue\",\"blue\",\"blue\",\"blue\",\"blue\",\"blue\",\"blue\",\"blue\",\"blue\",\"blue\",\"blue\",\"blue\",\"blue\",\"blue\",\"blue\",\"blue\",\"blue\",\"blue\",\"blue\",\"blue\",\"blue\",\"blue\",\"blue\",\"blue\",\"blue\",\"blue\",\"blue\",\"blue\",\"blue\",\"blue\",\"blue\",\"blue\",\"blue\",\"blue\",\"blue\",\"blue\",\"blue\",\"blue\",\"blue\",\"blue\",\"blue\",\"blue\",\"blue\",\"blue\",\"blue\",\"blue\",\"blue\",\"blue\",\"blue\",\"blue\",\"blue\",\"blue\",\"blue\",\"blue\",\"blue\",\"blue\",\"blue\",\"blue\",\"blue\",\"blue\",\"blue\",\"blue\",\"blue\",\"blue\",\"blue\",\"blue\",\"blue\",\"blue\",\"blue\",\"blue\",\"blue\",\"blue\",\"blue\",\"blue\",\"blue\",\"blue\",\"blue\",\"blue\",\"blue\",\"blue\",\"blue\",\"blue\",\"blue\",\"blue\",\"blue\",\"blue\",\"blue\",\"blue\",\"blue\",\"blue\",\"blue\",\"blue\",\"blue\",\"blue\",\"blue\",\"blue\",\"blue\",\"blue\",\"blue\",\"blue\",\"blue\",\"blue\",\"blue\",\"blue\",\"blue\",\"blue\",\"blue\",\"blue\",\"blue\",\"blue\",\"blue\",\"blue\",\"blue\",\"blue\",\"blue\",\"blue\",\"blue\",\"blue\",\"blue\",\"blue\",\"blue\",\"blue\",\"blue\",\"blue\",\"blue\",\"blue\",\"blue\",\"blue\",\"blue\",\"blue\",\"blue\",\"blue\",\"blue\",\"blue\",\"blue\",\"blue\",\"blue\",\"blue\",\"blue\",\"blue\",\"blue\",\"blue\",\"blue\",\"blue\",\"blue\",\"blue\",\"blue\",\"blue\",\"blue\",\"blue\",\"blue\",\"blue\",\"blue\",\"blue\",\"blue\",\"blue\",\"blue\",\"blue\",\"blue\",\"blue\",\"blue\",\"blue\",\"blue\",\"blue\",\"blue\",\"blue\",\"blue\",\"blue\",\"blue\",\"blue\",\"blue\",\"blue\",\"blue\",\"blue\",\"blue\",\"blue\",\"blue\",\"blue\",\"blue\",\"blue\",\"blue\",\"blue\",\"blue\",\"blue\",\"blue\",\"blue\",\"blue\",\"blue\",\"blue\",\"blue\",\"blue\",\"blue\",\"blue\",\"blue\",\"blue\",\"blue\",\"blue\",\"blue\",\"blue\",\"blue\",\"blue\",\"blue\",\"blue\",\"blue\",\"blue\",\"blue\",\"blue\",\"blue\",\"blue\",\"blue\",\"blue\",\"blue\",\"blue\",\"blue\",\"blue\",\"blue\",\"blue\",\"blue\",\"blue\",\"blue\",\"blue\",\"blue\",\"blue\",\"blue\",\"blue\",\"blue\",\"blue\",\"blue\",\"blue\",\"blue\",\"blue\",\"blue\",\"blue\",\"blue\",\"blue\",\"blue\",\"blue\",\"blue\",\"blue\",\"blue\",\"blue\",\"blue\",\"blue\",\"blue\",\"blue\",\"blue\",\"blue\",\"blue\",\"blue\",\"blue\",\"blue\",\"blue\",\"blue\",\"blue\",\"blue\",\"blue\",\"blue\",\"blue\",\"blue\",\"blue\",\"blue\",\"blue\",\"blue\",\"blue\",\"blue\",\"blue\",\"blue\",\"blue\",\"blue\",\"blue\",\"blue\",\"blue\",\"blue\",\"blue\",\"blue\",\"blue\",\"blue\",\"blue\",\"blue\",\"blue\",\"blue\",\"blue\",\"blue\",\"blue\",\"blue\",\"blue\",\"blue\",\"blue\",\"blue\",\"blue\",\"blue\",\"blue\",\"blue\",\"blue\",\"blue\",\"blue\",\"blue\",\"blue\",\"blue\",\"blue\",\"blue\",\"blue\",\"blue\",\"blue\",\"blue\",\"blue\",\"blue\",\"blue\",\"blue\",\"blue\",\"blue\",\"blue\",\"blue\",\"blue\",\"blue\",\"blue\",\"blue\",\"blue\",\"blue\",\"blue\",\"blue\",\"blue\",\"blue\",\"blue\",\"blue\",\"blue\",\"blue\",\"blue\",\"blue\",\"blue\",\"blue\",\"blue\",\"blue\",\"blue\",\"blue\",\"blue\",\"blue\",\"blue\",\"blue\",\"blue\",\"blue\",\"blue\",\"blue\",\"blue\",\"blue\",\"blue\",\"blue\",\"blue\",\"blue\",\"blue\",\"blue\",\"blue\",\"blue\",\"blue\",\"blue\",\"blue\",\"blue\",\"blue\",\"blue\",\"blue\",\"blue\",\"blue\",\"blue\",\"blue\",\"blue\",\"blue\",\"blue\",\"blue\",\"blue\",\"blue\",\"blue\",\"blue\",\"blue\",\"blue\",\"blue\",\"blue\",\"blue\",\"blue\",\"blue\",\"blue\",\"blue\",\"blue\",\"blue\",\"blue\",\"blue\",\"blue\",\"blue\",\"blue\",\"blue\",\"blue\",\"blue\",\"blue\",\"blue\",\"blue\",\"blue\",\"blue\",\"blue\",\"blue\",\"blue\",\"blue\",\"blue\",\"blue\",\"blue\",\"blue\",\"blue\",\"blue\",\"blue\",\"blue\",\"blue\",\"blue\",\"blue\",\"blue\",\"blue\",\"blue\",\"blue\",\"blue\",\"blue\",\"blue\",\"blue\",\"blue\",\"blue\",\"blue\",\"blue\",\"blue\",\"blue\",\"blue\",\"blue\",\"blue\",\"blue\",\"blue\",\"blue\",\"blue\",\"blue\",\"blue\",\"blue\",\"blue\",\"blue\",\"blue\",\"blue\",\"blue\",\"blue\",\"blue\",\"blue\",\"blue\",\"blue\",\"blue\",\"blue\",\"blue\",\"blue\",\"blue\",\"blue\",\"blue\",\"blue\",\"blue\",\"blue\",\"blue\",\"blue\",\"blue\",\"blue\",\"blue\",\"blue\",\"blue\",\"blue\",\"blue\",\"blue\",\"blue\",\"blue\",\"blue\",\"blue\",\"blue\",\"blue\",\"blue\",\"blue\",\"blue\",\"blue\",\"blue\",\"blue\",\"blue\",\"blue\",\"blue\",\"blue\",\"blue\",\"blue\",\"blue\",\"blue\",\"blue\",\"blue\",\"blue\",\"blue\",\"blue\",\"blue\",\"blue\",\"blue\",\"blue\",\"blue\",\"blue\",\"blue\",\"blue\",\"blue\",\"blue\",\"blue\",\"blue\",\"blue\",\"blue\",\"blue\",\"blue\",\"blue\",\"blue\",\"blue\",\"blue\",\"blue\",\"blue\",\"blue\",\"blue\",\"blue\",\"blue\",\"blue\",\"blue\",\"blue\",\"blue\",\"blue\",\"blue\",\"blue\",\"blue\",\"blue\",\"blue\",\"blue\",\"blue\",\"blue\",\"blue\",\"blue\",\"blue\",\"blue\",\"blue\",\"blue\",\"blue\",\"blue\",\"blue\",\"blue\",\"blue\",\"blue\",\"blue\",\"blue\",\"blue\",\"blue\",\"blue\",\"blue\",\"blue\",\"blue\",\"blue\",\"blue\",\"blue\",\"blue\",\"blue\",\"blue\",\"blue\",\"blue\",\"blue\",\"blue\",\"blue\",\"blue\",\"blue\",\"blue\",\"blue\",\"blue\",\"blue\",\"blue\",\"blue\",\"blue\",\"blue\",\"blue\",\"blue\",\"blue\",\"blue\",\"blue\",\"blue\",\"blue\",\"blue\",\"blue\",\"blue\",\"blue\",\"blue\",\"blue\",\"blue\",\"blue\",\"blue\",\"blue\",\"blue\",\"blue\",\"blue\",\"blue\",\"blue\",\"blue\",\"blue\",\"blue\",\"blue\",\"blue\",\"blue\",\"blue\",\"blue\",\"blue\",\"blue\",\"blue\"]],[\"token\",[\"t\",\"co\",\"http\",\"the\",\"a\",\"in\",\"to\",\"of\",\"i\",\"and\",\"is\",\"s\",\"for\",\"you\",\"on\",\"it\",\"my\",\"that\",\"with\",\"at\",\"by\",\"this\",\"from\",\"https\",\"be\",\"are\",\"was\",\"have\",\"like\",\"amp\",\"as\",\"up\",\"me\",\"but\",\"just\",\"so\",\"m\",\"not\",\"your\",\"we\",\"out\",\"all\",\"no\",\"after\",\"will\",\"fire\",\"an\",\"has\",\"can\",\"when\",\"if\",\"he\",\"they\",\"get\",\"new\",\"now\",\"what\",\"via\",\"more\",\"2\",\"about\",\"or\",\"people\",\"news\",\"one\",\"how\",\"been\",\"there\",\"who\",\"over\",\"don\",\"into\",\"do\",\"video\",\"emergency\",\"disaster\",\"re\",\"police\",\"than\",\"would\",\"3\",\"her\",\"u\",\"body\",\"some\",\"his\",\"still\",\"us\",\"were\",\"california\",\"burning\",\"storm\",\"crash\",\"back\",\"suicide\",\"1\",\"day\",\"off\",\"time\",\"man\",\"them\",\"why\",\"got\",\"know\",\"rt\",\"had\",\"buildings\",\"first\",\"world\",\"see\",\"bomb\",\"going\",\"two\",\"nuclear\",\"fires\",\"attack\",\"love\",\"our\",\"today\",\"killed\",\"dead\",\"youtube\",\"year\",\"4\",\"go\",\"5\",\"their\",\"car\",\"here\",\"gt\",\"full\",\"train\",\"hiroshima\",\"life\",\"old\",\"war\",\"being\",\"may\",\"only\",\"accident\",\"down\",\"families\",\"good\",\"think\",\"d\",\"say\",\"watch\",\"2015\",\"she\",\"many\",\"let\",\"last\",\"could\",\"home\",\"did\",\"way\",\"its\",\"want\",\"then\",\"years\",\"too\",\"w\",\"make\",\"collapse\",\"best\",\"death\",\"work\",\"because\",\"mass\",\"please\",\"help\",\"look\",\"even\",\"am\",\"mh370\",\"another\",\"ve\",\"wildfire\",\"army\",\"need\",\"take\",\"lol\",\"really\",\"bombing\",\"should\",\"him\",\"black\",\"those\",\"right\",\"school\",\"\\u0089\\u00fb\",\"fatal\",\"hot\",\"forest\",\"water\",\"obama\",\"8\",\"pm\",\"ll\",\"11\",\"northern\",\"reddit\",\"much\",\"never\",\"live\",\"city\",\"great\",\"bomber\",\"homes\",\"god\",\"where\",\"legionnaires\",\"9\",\"latest\",\"wreck\",\"japan\",\"every\",\"6\",\"any\",\"read\",\"typhoon\",\"atomic\",\"flames\",\"flood\",\"everyone\",\"said\",\"fear\",\"floods\",\"injured\",\"getting\",\"shit\",\"come\",\"ever\",\"under\",\"im\",\"near\",\"top\",\"feel\",\"damage\",\"while\",\"content\",\"cross\",\"oil\",\"most\",\"hope\",\"hit\",\"since\",\"15\",\"military\",\"found\",\"weather\",\"before\",\"stop\",\"10\",\"coming\",\"during\",\"night\",\"ass\",\"without\",\"state\",\"earthquake\",\"next\",\"truck\",\"malaysia\",\"these\",\"debris\",\"wild\",\"evacuation\",\"flooding\",\"plan\",\"little\",\"times\",\"7\",\"which\",\"well\",\"cause\",\"set\",\"movie\",\"smoke\",\"08\",\"thunderstorm\",\"lightning\",\"run\",\"confirmed\",\"through\",\"wounded\",\"face\",\"area\",\"severe\",\"check\",\"heat\",\"looks\",\"high\",\"made\",\"weapon\",\"sinking\",\"food\",\"rain\",\"fucking\",\"bad\",\"explosion\",\"always\",\"warning\",\"hurricane\",\"services\",\"thunder\",\"bloody\",\"says\",\"change\",\"natural\",\"devastated\",\"loud\",\"hail\",\"also\",\"injuries\",\"family\",\"spill\",\"weapons\",\"free\",\"house\",\"liked\",\"70\",\"until\",\"fall\",\"red\",\"screaming\",\"bags\",\"gonna\",\"summer\",\"head\",\"evacuate\",\"someone\",\"blood\",\"refugees\",\"again\",\"photo\",\"missing\",\"injury\",\"boy\",\"fatalities\",\"wind\",\"air\",\"p\",\"rescue\",\"trapped\",\"end\",\"collided\",\"murder\",\"tonight\",\"girl\",\"whole\",\"outbreak\",\"save\",\"harm\",\"failure\",\"sinkhole\",\"released\",\"derailment\",\"attacked\",\"big\",\"wreckage\",\"collision\",\"destroy\",\"explode\",\"panic\",\"survive\",\"real\",\"terrorism\",\"hazard\",\"saudi\",\"breaking\",\"post\",\"40\",\"around\",\"terrorist\",\"ambulance\",\"bag\",\"bridge\",\"week\",\"deaths\",\"destruction\",\"destroyed\",\"o\",\"road\",\"battle\",\"rescuers\",\"survived\",\"n\",\"does\",\"wrecked\",\"windstorm\",\"bombed\",\"game\",\"30\",\"drought\",\"lives\",\"landslide\",\"long\",\"\\u0089\\u00fb\\u00f2\",\"report\",\"charged\",\"twister\",\"rescued\",\"migrants\",\"survivors\",\"keep\",\"05\",\"fuck\",\"burned\",\"story\",\"update\",\"trauma\",\"crush\",\"ruin\",\"boat\",\"self\",\"service\",\"catastrophe\",\"deluge\",\"call\",\"away\",\"women\",\"against\",\"ok\",\"show\",\"displaced\",\"dust\",\"island\",\"white\",\"county\",\"half\",\"phone\",\"crashed\",\"twitter\",\"other\",\"august\",\"curfew\",\"investigators\",\"things\",\"hostages\",\"thing\",\"armageddon\",\"whirlwind\",\"structural\",\"massacre\",\"0\",\"collapsed\",\"put\",\"bus\",\"violent\",\"sandstorm\",\"danger\",\"hazardous\",\"riot\",\"mudslide\",\"bang\",\"engulfed\",\"rioting\",\"screamed\",\"hostage\",\"derailed\",\"tragedy\",\"devastation\",\"traumatised\",\"apocalypse\",\"airplane\",\"woman\",\"quarantine\",\"famine\",\"came\",\"better\",\"chemical\",\"saw\",\"sunk\",\"suspect\",\"drowning\",\"least\",\"wanna\",\"quarantined\",\"heart\",\"inundated\",\"national\",\"screams\",\"cliff\",\"tsunami\",\"horrible\",\"iran\",\"china\",\"mosque\",\"anniversary\",\"blown\",\"stock\",\"light\",\"past\",\"power\",\"wave\",\"desolation\",\"tornado\",\"casualties\",\"heard\",\"bleeding\",\"kills\",\"derail\",\"group\",\"part\",\"oh\",\"exploded\",\"hundreds\",\"must\",\"fedex\",\"left\",\"wounds\",\"lava\",\"tomorrow\",\"electrocuted\",\"meltdown\",\"plane\",\"b\",\"went\",\"catastrophic\",\"flattened\",\"fatality\",\"use\",\"pandemonium\",\"detonate\",\"blew\",\"drown\",\"trouble\",\"affected\",\"00\",\"calgary\",\"st\",\"zone\",\"evacuated\",\"thank\",\"razed\",\"demolition\",\"lot\",\"caused\",\"hijacker\",\"hellfire\",\"bagging\",\"demolish\",\"bioterror\",\"murderer\",\"collide\",\"land\",\"soon\",\"something\",\"reunion\",\"panicking\",\"ebay\",\"hijacking\",\"blazing\",\"possible\",\"very\",\"r\",\"song\",\"river\",\"rainstorm\",\"cool\",\"siren\",\"baby\",\"casualty\",\"send\",\"isis\",\"market\",\"sure\",\"minute\",\"cyclone\",\"kids\",\"kill\",\"traffic\",\"doing\",\"detonated\",\"crushed\",\"beautiful\",\"care\",\"obliterated\",\"longer\",\"three\",\"south\",\"c\",\"drowned\",\"responders\",\"due\",\"thought\",\"e\",\"government\",\"india\",\"annihilated\",\"goes\",\"detonation\",\"pkk\",\"officials\",\"security\",\"volcano\",\"arson\",\"thanks\",\"shoulder\",\"prebreak\",\"sound\",\"nothing\",\"issues\",\"yet\",\"obliteration\",\"ur\",\"bush\",\"same\",\"men\",\"music\",\"electrocute\",\"officer\",\"demolished\",\"airport\",\"fan\",\"blast\",\"used\",\"stay\",\"building\",\"obliterate\",\"lt\",\"50\",\"start\",\"shooting\",\"fight\",\"done\",\"few\",\"believe\",\"making\",\"upheaval\",\"16\",\"days\",\"eyewitness\",\"fun\",\"remember\",\"already\",\"hours\",\"media\",\"israeli\",\"having\",\"turkey\",\"16yr\",\"wake\",\"hijack\",\"seismic\",\"actually\",\"blight\",\"sue\",\"words\",\"far\",\"ablaze\",\"snowstorm\",\"person\",\"died\",\"leave\",\"inside\",\"policy\",\"mp\",\"sirens\",\"such\",\"bioterrorism\",\"pic\",\"reactor\",\"deluged\",\"order\",\"second\",\"25\",\"lab\",\"06\",\"site\",\"stretcher\",\"stand\",\"nearby\",\"avalanche\",\"support\",\"shot\",\"die\",\"line\",\"ago\",\"play\",\"yes\",\"re\\u0089\\u00fb\",\"health\",\"abc\",\"both\",\"declares\",\"trying\",\"peace\",\"north\",\"tv\",\"guys\",\"brown\",\"won\",\"america\",\"anything\",\"plans\",\"yourself\",\"rubble\",\"islam\",\"horror\",\"gets\",\"history\",\"01\",\"swallowed\",\"\\u0089\\u00fb\\u00f3\",\"wait\",\"doesn\",\"children\",\"soudelor\",\"x\",\"low\",\"place\",\"deal\",\"find\",\"nowplaying\",\"lost\",\"saipan\",\"aircraft\",\"maybe\",\"hey\",\"job\",\"own\",\"memories\",\"rise\",\"almost\",\"photos\",\"hat\",\"bc\",\"yeah\",\"tell\",\"desolate\",\"west\",\"didn\",\"american\",\"conclusively\",\"outside\",\"data\",\"business\",\"watching\",\"helicopter\",\"country\",\"bigger\",\"anyone\",\"happy\",\"literally\",\"center\",\"waves\",\"reuters\",\"control\",\"blizzard\",\"20\",\"pakistan\",\"book\",\"bestnaijamade\",\"crews\",\"hear\",\"projected\",\"pick\",\"searching\",\"bodies\",\"makes\",\"transport\",\"street\",\"hell\",\"bar\",\"money\",\"listen\",\"team\",\"side\",\"trains\",\"amid\",\"property\",\"might\",\"manslaughter\",\"pretty\",\"rd\",\"damn\",\"online\",\"move\",\"morning\",\"hollywood\",\"probably\",\"blaze\",\"finally\",\"eyes\",\"though\",\"guy\",\"feeling\",\"saved\",\"effect\",\"myself\",\"12\",\"aug\",\"signs\",\"everything\",\"space\",\"sorry\",\"okay\",\"spot\",\"crisis\",\"feared\",\"13\",\"once\",\"aftershock\",\"costlier\",\"refugio\",\"sensor\",\"wrong\",\"name\",\"mom\",\"youth\",\"caught\",\"la\",\"major\",\"nearly\",\"annihilation\",\"case\",\"image\",\"child\",\"miners\",\"hate\",\"seen\",\"trench\",\"town\",\"leather\",\"17\",\"fast\",\"arsonist\",\"hailstorm\",\"daily\",\"jobs\",\"angry\",\"texas\",\"course\",\"omg\",\"offensive\",\"fukushima\",\"wow\",\"cars\",\"vehicle\",\"ball\",\"lord\",\"banned\",\"usa\",\"crazy\",\"called\",\"60\",\"huge\",\"giant\",\"flag\",\"class\",\"ship\",\"flash\",\"russian\",\"mayhem\",\"needs\",\"picking\",\"worst\",\"knock\",\"level\",\"reason\",\"dont\",\"east\",\"hard\",\"gun\",\"closed\",\"official\",\"sign\",\"ignition\",\"follow\",\"blue\",\"entire\",\"heavy\",\"pay\",\"action\",\"uk\",\"isn\",\"toddler\",\"meek\",\"united\",\"poor\",\"others\",\"anthrax\",\"looking\",\"bbc\",\"haha\",\"across\",\"computers\",\"win\",\"houses\",\"chance\",\"become\",\"cnn\",\"talk\",\"star\",\"friends\",\"link\",\"gbbo\",\"running\",\"temple\",\"muslims\",\"christian\",\"emmerdale\",\"mount\",\"appears\",\"takes\",\"learn\",\"alarm\",\"truth\",\"village\",\"declaration\",\"pain\",\"yours\",\"disea\",\"beach\",\"myanmar\",\"public\",\"view\",\"alone\",\"wanted\",\"chicago\",\"couple\",\"cake\",\"radio\",\"eye\",\"taken\",\"totally\",\"issued\",\"thousands\",\"ladies\",\"drive\",\"else\",\"18\",\"playing\",\"australia\",\"try\",\"drake\",\"happened\",\"24\",\"climate\",\"mishaps\",\"ca\",\"100\",\"mad\",\"reports\",\"centre\",\"vs\",\"ain\",\"dog\",\"\\u0089\\u00fb\\u00ef\",\"nagasaki\",\"virgin\",\"marks\",\"global\",\"ready\",\"flight\",\"instead\",\"favorite\",\"coaches\",\"chile\",\"thursday\",\"womens\",\"quiz\",\"early\",\"insurance\",\"driving\",\"info\",\"front\",\"experts\",\"till\",\"human\",\"trust\",\"film\",\"green\",\"mph\",\"france\",\"sea\",\"germs\",\"friend\",\"large\",\"downtown\",\"camp\",\"british\",\"date\",\"funtenna\",\"gop\",\"behind\",\"russia\",\"turn\",\"true\",\"download\",\"rock\",\"miss\",\"israel\",\"moment\",\"subreddits\",\"libya\",\"hiring\",\"ancient\"]]]}}},\"view\":{\"type\":\"object\",\"name\":\"CDSView\",\"id\":\"p1190\",\"attributes\":{\"filter\":{\"type\":\"object\",\"name\":\"AllIndices\",\"id\":\"p1191\"}}},\"glyph\":{\"type\":\"object\",\"name\":\"Scatter\",\"id\":\"p1186\",\"attributes\":{\"x\":{\"type\":\"field\",\"field\":\"x\"},\"y\":{\"type\":\"field\",\"field\":\"y\"},\"size\":{\"type\":\"value\",\"value\":10},\"line_color\":{\"type\":\"field\",\"field\":\"color\"},\"line_alpha\":{\"type\":\"value\",\"value\":0.25},\"fill_color\":{\"type\":\"field\",\"field\":\"color\"},\"fill_alpha\":{\"type\":\"value\",\"value\":0.25},\"hatch_color\":{\"type\":\"field\",\"field\":\"color\"},\"hatch_alpha\":{\"type\":\"value\",\"value\":0.25}}},\"nonselection_glyph\":{\"type\":\"object\",\"name\":\"Scatter\",\"id\":\"p1187\",\"attributes\":{\"x\":{\"type\":\"field\",\"field\":\"x\"},\"y\":{\"type\":\"field\",\"field\":\"y\"},\"size\":{\"type\":\"value\",\"value\":10},\"line_color\":{\"type\":\"field\",\"field\":\"color\"},\"line_alpha\":{\"type\":\"value\",\"value\":0.1},\"fill_color\":{\"type\":\"field\",\"field\":\"color\"},\"fill_alpha\":{\"type\":\"value\",\"value\":0.1},\"hatch_color\":{\"type\":\"field\",\"field\":\"color\"},\"hatch_alpha\":{\"type\":\"value\",\"value\":0.1}}},\"muted_glyph\":{\"type\":\"object\",\"name\":\"Scatter\",\"id\":\"p1188\",\"attributes\":{\"x\":{\"type\":\"field\",\"field\":\"x\"},\"y\":{\"type\":\"field\",\"field\":\"y\"},\"size\":{\"type\":\"value\",\"value\":10},\"line_color\":{\"type\":\"field\",\"field\":\"color\"},\"line_alpha\":{\"type\":\"value\",\"value\":0.2},\"fill_color\":{\"type\":\"field\",\"field\":\"color\"},\"fill_alpha\":{\"type\":\"value\",\"value\":0.2},\"hatch_color\":{\"type\":\"field\",\"field\":\"color\"},\"hatch_alpha\":{\"type\":\"value\",\"value\":0.2}}}}}],\"toolbar\":{\"type\":\"object\",\"name\":\"Toolbar\",\"id\":\"p1159\",\"attributes\":{\"tools\":[{\"type\":\"object\",\"name\":\"PanTool\",\"id\":\"p1172\"},{\"type\":\"object\",\"name\":\"WheelZoomTool\",\"id\":\"p1173\",\"attributes\":{\"renderers\":\"auto\"}},{\"type\":\"object\",\"name\":\"BoxZoomTool\",\"id\":\"p1174\",\"attributes\":{\"overlay\":{\"type\":\"object\",\"name\":\"BoxAnnotation\",\"id\":\"p1175\",\"attributes\":{\"syncable\":false,\"level\":\"overlay\",\"visible\":false,\"left\":{\"type\":\"number\",\"value\":\"nan\"},\"right\":{\"type\":\"number\",\"value\":\"nan\"},\"top\":{\"type\":\"number\",\"value\":\"nan\"},\"bottom\":{\"type\":\"number\",\"value\":\"nan\"},\"left_units\":\"canvas\",\"right_units\":\"canvas\",\"top_units\":\"canvas\",\"bottom_units\":\"canvas\",\"line_color\":\"black\",\"line_alpha\":1.0,\"line_width\":2,\"line_dash\":[4,4],\"fill_color\":\"lightgrey\",\"fill_alpha\":0.5}}}},{\"type\":\"object\",\"name\":\"SaveTool\",\"id\":\"p1180\"},{\"type\":\"object\",\"name\":\"ResetTool\",\"id\":\"p1181\"},{\"type\":\"object\",\"name\":\"HelpTool\",\"id\":\"p1182\"},{\"type\":\"object\",\"name\":\"HoverTool\",\"id\":\"p1192\",\"attributes\":{\"renderers\":\"auto\",\"tooltips\":[[\"token\",\"@token\"]]}}],\"active_scroll\":{\"id\":\"p1173\"}}},\"left\":[{\"type\":\"object\",\"name\":\"LinearAxis\",\"id\":\"p1167\",\"attributes\":{\"ticker\":{\"type\":\"object\",\"name\":\"BasicTicker\",\"id\":\"p1168\",\"attributes\":{\"mantissas\":[1,2,5]}},\"formatter\":{\"type\":\"object\",\"name\":\"BasicTickFormatter\",\"id\":\"p1169\"},\"major_label_policy\":{\"type\":\"object\",\"name\":\"AllLabels\",\"id\":\"p1170\"}}}],\"below\":[{\"type\":\"object\",\"name\":\"LinearAxis\",\"id\":\"p1162\",\"attributes\":{\"ticker\":{\"type\":\"object\",\"name\":\"BasicTicker\",\"id\":\"p1163\",\"attributes\":{\"mantissas\":[1,2,5]}},\"formatter\":{\"type\":\"object\",\"name\":\"BasicTickFormatter\",\"id\":\"p1164\"},\"major_label_policy\":{\"type\":\"object\",\"name\":\"AllLabels\",\"id\":\"p1165\"}}}],\"center\":[{\"type\":\"object\",\"name\":\"Grid\",\"id\":\"p1166\",\"attributes\":{\"axis\":{\"id\":\"p1162\"}}},{\"type\":\"object\",\"name\":\"Grid\",\"id\":\"p1171\",\"attributes\":{\"dimension\":1,\"axis\":{\"id\":\"p1167\"}}}]}}]}};\n  const render_items = [{\"docid\":\"e527b45e-2b8a-4d1b-861b-b0f2748acf1b\",\"roots\":{\"p1151\":\"ed536982-8102-428a-bf6f-99071eea014d\"},\"root_ids\":[\"p1151\"]}];\n  root.Bokeh.embed.embed_items_notebook(docs_json, render_items);\n  }\n  if (root.Bokeh !== undefined) {\n    embed_document(root);\n  } else {\n    let attempts = 0;\n    const timer = setInterval(function(root) {\n      if (root.Bokeh !== undefined) {\n        clearInterval(timer);\n        embed_document(root);\n      } else {\n        attempts++;\n        if (attempts > 100) {\n          clearInterval(timer);\n          console.log(\"Bokeh: ERROR: Unable to run BokehJS code because BokehJS library is missing\");\n        }\n      }\n    }, 10, root)\n  }\n})(window);",
      "application/vnd.bokehjs_exec.v0+json": ""
     },
     "metadata": {
      "application/vnd.bokehjs_exec.v0+json": {
       "id": "p1151"
      }
     },
     "output_type": "display_data"
    },
    {
     "data": {
      "text/html": [
       "<div style=\"display: table;\"><div style=\"display: table-row;\"><div style=\"display: table-cell;\"><b title=\"bokeh.plotting._figure.figure\">figure</b>(</div><div style=\"display: table-cell;\">id&nbsp;=&nbsp;'p1151', <span id=\"p1196\" style=\"cursor: pointer;\">&hellip;)</span></div></div><div class=\"p1195\" style=\"display: none;\"><div style=\"display: table-cell;\"></div><div style=\"display: table-cell;\">above&nbsp;=&nbsp;[],</div></div><div class=\"p1195\" style=\"display: none;\"><div style=\"display: table-cell;\"></div><div style=\"display: table-cell;\">align&nbsp;=&nbsp;'auto',</div></div><div class=\"p1195\" style=\"display: none;\"><div style=\"display: table-cell;\"></div><div style=\"display: table-cell;\">aspect_ratio&nbsp;=&nbsp;None,</div></div><div class=\"p1195\" style=\"display: none;\"><div style=\"display: table-cell;\"></div><div style=\"display: table-cell;\">aspect_scale&nbsp;=&nbsp;1,</div></div><div class=\"p1195\" style=\"display: none;\"><div style=\"display: table-cell;\"></div><div style=\"display: table-cell;\">background_fill_alpha&nbsp;=&nbsp;1.0,</div></div><div class=\"p1195\" style=\"display: none;\"><div style=\"display: table-cell;\"></div><div style=\"display: table-cell;\">background_fill_color&nbsp;=&nbsp;'#ffffff',</div></div><div class=\"p1195\" style=\"display: none;\"><div style=\"display: table-cell;\"></div><div style=\"display: table-cell;\">below&nbsp;=&nbsp;[LinearAxis(id='p1162', ...)],</div></div><div class=\"p1195\" style=\"display: none;\"><div style=\"display: table-cell;\"></div><div style=\"display: table-cell;\">border_fill_alpha&nbsp;=&nbsp;1.0,</div></div><div class=\"p1195\" style=\"display: none;\"><div style=\"display: table-cell;\"></div><div style=\"display: table-cell;\">border_fill_color&nbsp;=&nbsp;'#ffffff',</div></div><div class=\"p1195\" style=\"display: none;\"><div style=\"display: table-cell;\"></div><div style=\"display: table-cell;\">center&nbsp;=&nbsp;[Grid(id='p1166', ...), Grid(id='p1171', ...)],</div></div><div class=\"p1195\" style=\"display: none;\"><div style=\"display: table-cell;\"></div><div style=\"display: table-cell;\">context_menu&nbsp;=&nbsp;None,</div></div><div class=\"p1195\" style=\"display: none;\"><div style=\"display: table-cell;\"></div><div style=\"display: table-cell;\">css_classes&nbsp;=&nbsp;[],</div></div><div class=\"p1195\" style=\"display: none;\"><div style=\"display: table-cell;\"></div><div style=\"display: table-cell;\">disabled&nbsp;=&nbsp;False,</div></div><div class=\"p1195\" style=\"display: none;\"><div style=\"display: table-cell;\"></div><div style=\"display: table-cell;\">extra_x_ranges&nbsp;=&nbsp;{},</div></div><div class=\"p1195\" style=\"display: none;\"><div style=\"display: table-cell;\"></div><div style=\"display: table-cell;\">extra_x_scales&nbsp;=&nbsp;{},</div></div><div class=\"p1195\" style=\"display: none;\"><div style=\"display: table-cell;\"></div><div style=\"display: table-cell;\">extra_y_ranges&nbsp;=&nbsp;{},</div></div><div class=\"p1195\" style=\"display: none;\"><div style=\"display: table-cell;\"></div><div style=\"display: table-cell;\">extra_y_scales&nbsp;=&nbsp;{},</div></div><div class=\"p1195\" style=\"display: none;\"><div style=\"display: table-cell;\"></div><div style=\"display: table-cell;\">flow_mode&nbsp;=&nbsp;'block',</div></div><div class=\"p1195\" style=\"display: none;\"><div style=\"display: table-cell;\"></div><div style=\"display: table-cell;\">frame_align&nbsp;=&nbsp;True,</div></div><div class=\"p1195\" style=\"display: none;\"><div style=\"display: table-cell;\"></div><div style=\"display: table-cell;\">frame_height&nbsp;=&nbsp;None,</div></div><div class=\"p1195\" style=\"display: none;\"><div style=\"display: table-cell;\"></div><div style=\"display: table-cell;\">frame_width&nbsp;=&nbsp;None,</div></div><div class=\"p1195\" style=\"display: none;\"><div style=\"display: table-cell;\"></div><div style=\"display: table-cell;\">height&nbsp;=&nbsp;400,</div></div><div class=\"p1195\" style=\"display: none;\"><div style=\"display: table-cell;\"></div><div style=\"display: table-cell;\">height_policy&nbsp;=&nbsp;'auto',</div></div><div class=\"p1195\" style=\"display: none;\"><div style=\"display: table-cell;\"></div><div style=\"display: table-cell;\">hidpi&nbsp;=&nbsp;True,</div></div><div class=\"p1195\" style=\"display: none;\"><div style=\"display: table-cell;\"></div><div style=\"display: table-cell;\">hold_render&nbsp;=&nbsp;False,</div></div><div class=\"p1195\" style=\"display: none;\"><div style=\"display: table-cell;\"></div><div style=\"display: table-cell;\">js_event_callbacks&nbsp;=&nbsp;{},</div></div><div class=\"p1195\" style=\"display: none;\"><div style=\"display: table-cell;\"></div><div style=\"display: table-cell;\">js_property_callbacks&nbsp;=&nbsp;{},</div></div><div class=\"p1195\" style=\"display: none;\"><div style=\"display: table-cell;\"></div><div style=\"display: table-cell;\">left&nbsp;=&nbsp;[LinearAxis(id='p1167', ...)],</div></div><div class=\"p1195\" style=\"display: none;\"><div style=\"display: table-cell;\"></div><div style=\"display: table-cell;\">lod_factor&nbsp;=&nbsp;10,</div></div><div class=\"p1195\" style=\"display: none;\"><div style=\"display: table-cell;\"></div><div style=\"display: table-cell;\">lod_interval&nbsp;=&nbsp;300,</div></div><div class=\"p1195\" style=\"display: none;\"><div style=\"display: table-cell;\"></div><div style=\"display: table-cell;\">lod_threshold&nbsp;=&nbsp;2000,</div></div><div class=\"p1195\" style=\"display: none;\"><div style=\"display: table-cell;\"></div><div style=\"display: table-cell;\">lod_timeout&nbsp;=&nbsp;500,</div></div><div class=\"p1195\" style=\"display: none;\"><div style=\"display: table-cell;\"></div><div style=\"display: table-cell;\">margin&nbsp;=&nbsp;None,</div></div><div class=\"p1195\" style=\"display: none;\"><div style=\"display: table-cell;\"></div><div style=\"display: table-cell;\">match_aspect&nbsp;=&nbsp;False,</div></div><div class=\"p1195\" style=\"display: none;\"><div style=\"display: table-cell;\"></div><div style=\"display: table-cell;\">max_height&nbsp;=&nbsp;None,</div></div><div class=\"p1195\" style=\"display: none;\"><div style=\"display: table-cell;\"></div><div style=\"display: table-cell;\">max_width&nbsp;=&nbsp;None,</div></div><div class=\"p1195\" style=\"display: none;\"><div style=\"display: table-cell;\"></div><div style=\"display: table-cell;\">min_border&nbsp;=&nbsp;5,</div></div><div class=\"p1195\" style=\"display: none;\"><div style=\"display: table-cell;\"></div><div style=\"display: table-cell;\">min_border_bottom&nbsp;=&nbsp;None,</div></div><div class=\"p1195\" style=\"display: none;\"><div style=\"display: table-cell;\"></div><div style=\"display: table-cell;\">min_border_left&nbsp;=&nbsp;None,</div></div><div class=\"p1195\" style=\"display: none;\"><div style=\"display: table-cell;\"></div><div style=\"display: table-cell;\">min_border_right&nbsp;=&nbsp;None,</div></div><div class=\"p1195\" style=\"display: none;\"><div style=\"display: table-cell;\"></div><div style=\"display: table-cell;\">min_border_top&nbsp;=&nbsp;None,</div></div><div class=\"p1195\" style=\"display: none;\"><div style=\"display: table-cell;\"></div><div style=\"display: table-cell;\">min_height&nbsp;=&nbsp;None,</div></div><div class=\"p1195\" style=\"display: none;\"><div style=\"display: table-cell;\"></div><div style=\"display: table-cell;\">min_width&nbsp;=&nbsp;None,</div></div><div class=\"p1195\" style=\"display: none;\"><div style=\"display: table-cell;\"></div><div style=\"display: table-cell;\">name&nbsp;=&nbsp;None,</div></div><div class=\"p1195\" style=\"display: none;\"><div style=\"display: table-cell;\"></div><div style=\"display: table-cell;\">outline_line_alpha&nbsp;=&nbsp;1.0,</div></div><div class=\"p1195\" style=\"display: none;\"><div style=\"display: table-cell;\"></div><div style=\"display: table-cell;\">outline_line_cap&nbsp;=&nbsp;'butt',</div></div><div class=\"p1195\" style=\"display: none;\"><div style=\"display: table-cell;\"></div><div style=\"display: table-cell;\">outline_line_color&nbsp;=&nbsp;'#e5e5e5',</div></div><div class=\"p1195\" style=\"display: none;\"><div style=\"display: table-cell;\"></div><div style=\"display: table-cell;\">outline_line_dash&nbsp;=&nbsp;[],</div></div><div class=\"p1195\" style=\"display: none;\"><div style=\"display: table-cell;\"></div><div style=\"display: table-cell;\">outline_line_dash_offset&nbsp;=&nbsp;0,</div></div><div class=\"p1195\" style=\"display: none;\"><div style=\"display: table-cell;\"></div><div style=\"display: table-cell;\">outline_line_join&nbsp;=&nbsp;'bevel',</div></div><div class=\"p1195\" style=\"display: none;\"><div style=\"display: table-cell;\"></div><div style=\"display: table-cell;\">outline_line_width&nbsp;=&nbsp;1,</div></div><div class=\"p1195\" style=\"display: none;\"><div style=\"display: table-cell;\"></div><div style=\"display: table-cell;\">output_backend&nbsp;=&nbsp;'canvas',</div></div><div class=\"p1195\" style=\"display: none;\"><div style=\"display: table-cell;\"></div><div style=\"display: table-cell;\">renderers&nbsp;=&nbsp;[GlyphRenderer(id='p1189', ...)],</div></div><div class=\"p1195\" style=\"display: none;\"><div style=\"display: table-cell;\"></div><div style=\"display: table-cell;\">reset_policy&nbsp;=&nbsp;'standard',</div></div><div class=\"p1195\" style=\"display: none;\"><div style=\"display: table-cell;\"></div><div style=\"display: table-cell;\">resizable&nbsp;=&nbsp;False,</div></div><div class=\"p1195\" style=\"display: none;\"><div style=\"display: table-cell;\"></div><div style=\"display: table-cell;\">right&nbsp;=&nbsp;[],</div></div><div class=\"p1195\" style=\"display: none;\"><div style=\"display: table-cell;\"></div><div style=\"display: table-cell;\">sizing_mode&nbsp;=&nbsp;None,</div></div><div class=\"p1195\" style=\"display: none;\"><div style=\"display: table-cell;\"></div><div style=\"display: table-cell;\">styles&nbsp;=&nbsp;{},</div></div><div class=\"p1195\" style=\"display: none;\"><div style=\"display: table-cell;\"></div><div style=\"display: table-cell;\">stylesheets&nbsp;=&nbsp;[],</div></div><div class=\"p1195\" style=\"display: none;\"><div style=\"display: table-cell;\"></div><div style=\"display: table-cell;\">subscribed_events&nbsp;=&nbsp;PropertyValueSet(),</div></div><div class=\"p1195\" style=\"display: none;\"><div style=\"display: table-cell;\"></div><div style=\"display: table-cell;\">syncable&nbsp;=&nbsp;True,</div></div><div class=\"p1195\" style=\"display: none;\"><div style=\"display: table-cell;\"></div><div style=\"display: table-cell;\">tags&nbsp;=&nbsp;[],</div></div><div class=\"p1195\" style=\"display: none;\"><div style=\"display: table-cell;\"></div><div style=\"display: table-cell;\">title&nbsp;=&nbsp;Title(id='p1158', ...),</div></div><div class=\"p1195\" style=\"display: none;\"><div style=\"display: table-cell;\"></div><div style=\"display: table-cell;\">title_location&nbsp;=&nbsp;'above',</div></div><div class=\"p1195\" style=\"display: none;\"><div style=\"display: table-cell;\"></div><div style=\"display: table-cell;\">toolbar&nbsp;=&nbsp;Toolbar(id='p1159', ...),</div></div><div class=\"p1195\" style=\"display: none;\"><div style=\"display: table-cell;\"></div><div style=\"display: table-cell;\">toolbar_inner&nbsp;=&nbsp;False,</div></div><div class=\"p1195\" style=\"display: none;\"><div style=\"display: table-cell;\"></div><div style=\"display: table-cell;\">toolbar_location&nbsp;=&nbsp;'right',</div></div><div class=\"p1195\" style=\"display: none;\"><div style=\"display: table-cell;\"></div><div style=\"display: table-cell;\">toolbar_sticky&nbsp;=&nbsp;True,</div></div><div class=\"p1195\" style=\"display: none;\"><div style=\"display: table-cell;\"></div><div style=\"display: table-cell;\">visible&nbsp;=&nbsp;True,</div></div><div class=\"p1195\" style=\"display: none;\"><div style=\"display: table-cell;\"></div><div style=\"display: table-cell;\">width&nbsp;=&nbsp;600,</div></div><div class=\"p1195\" style=\"display: none;\"><div style=\"display: table-cell;\"></div><div style=\"display: table-cell;\">width_policy&nbsp;=&nbsp;'auto',</div></div><div class=\"p1195\" style=\"display: none;\"><div style=\"display: table-cell;\"></div><div style=\"display: table-cell;\">x_range&nbsp;=&nbsp;DataRange1d(id='p1152', ...),</div></div><div class=\"p1195\" style=\"display: none;\"><div style=\"display: table-cell;\"></div><div style=\"display: table-cell;\">x_scale&nbsp;=&nbsp;LinearScale(id='p1160', ...),</div></div><div class=\"p1195\" style=\"display: none;\"><div style=\"display: table-cell;\"></div><div style=\"display: table-cell;\">y_range&nbsp;=&nbsp;DataRange1d(id='p1153', ...),</div></div><div class=\"p1195\" style=\"display: none;\"><div style=\"display: table-cell;\"></div><div style=\"display: table-cell;\">y_scale&nbsp;=&nbsp;LinearScale(id='p1161', ...))</div></div></div>\n",
       "<script>\n",
       "(function() {\n",
       "  let expanded = false;\n",
       "  const ellipsis = document.getElementById(\"p1196\");\n",
       "  ellipsis.addEventListener(\"click\", function() {\n",
       "    const rows = document.getElementsByClassName(\"p1195\");\n",
       "    for (let i = 0; i < rows.length; i++) {\n",
       "      const el = rows[i];\n",
       "      el.style.display = expanded ? \"none\" : \"table-row\";\n",
       "    }\n",
       "    ellipsis.innerHTML = expanded ? \"&hellip;)\" : \"&lsaquo;&lsaquo;&lsaquo;\";\n",
       "    expanded = !expanded;\n",
       "  });\n",
       "})();\n",
       "</script>\n"
      ],
      "text/plain": [
       "figure(id='p1151', ...)"
      ]
     },
     "execution_count": 252,
     "metadata": {},
     "output_type": "execute_result"
    }
   ],
   "source": [
    "draw_vectors(vectors_tsne[:, 0], vectors_tsne[:, 1], token=words)"
   ]
  },
  {
   "cell_type": "code",
   "execution_count": 253,
   "metadata": {},
   "outputs": [],
   "source": [
    "data_train['vectorized'] = data_train['text'].apply(lambda x: [model.get_vector(word) for word in x])"
   ]
  },
  {
   "cell_type": "code",
   "execution_count": 254,
   "metadata": {},
   "outputs": [],
   "source": [
    "X_train = data_train['vectorized'].apply(lambda x: torch.tensor(x, dtype=torch.float32))\n",
    "y_train = torch.tensor(data_train['target'])"
   ]
  },
  {
   "cell_type": "code",
   "execution_count": 255,
   "metadata": {},
   "outputs": [],
   "source": [
    "data_train = data_train.drop('id', axis=1)"
   ]
  },
  {
   "cell_type": "code",
   "execution_count": 256,
   "metadata": {},
   "outputs": [],
   "source": [
    "out = []\n",
    "for i in data_train.vectorized:\n",
    "    res = i\n",
    "    \n",
    "    while len(res) < 34:\n",
    "        res.append(np.zeros_like(i[0]))\n",
    "    #print(res)\n",
    "    out.append(np.array(res))\n",
    "    \n",
    "embeddings = torch.from_numpy(np.array(out))"
   ]
  },
  {
   "cell_type": "markdown",
   "metadata": {},
   "source": [
    "Now to make embeddings for sentences I will sum up vectors for words for each sentence"
   ]
  },
  {
   "cell_type": "code",
   "execution_count": 257,
   "metadata": {},
   "outputs": [],
   "source": [
    "sentences = torch.sum(embeddings, 1)"
   ]
  },
  {
   "cell_type": "code",
   "execution_count": 258,
   "metadata": {},
   "outputs": [
    {
     "data": {
      "text/plain": [
       "tensor([[-0.1468, -1.7839,  1.0463,  ...,  0.0000,  0.0000,  0.0000],\n",
       "        [-0.1342, -1.3187,  0.7134,  ...,  0.0000,  0.0000,  0.0000],\n",
       "        [-0.4786, -2.7714,  1.8150,  ...,  0.0000,  0.0000,  0.0000],\n",
       "        ...,\n",
       "        [ 0.0065, -0.1059,  0.0648,  ...,  0.0000,  0.0000,  0.0000],\n",
       "        [-0.1010, -2.2022,  1.0907,  ...,  0.0000,  0.0000,  0.0000],\n",
       "        [-0.5097, -3.6388,  2.0940,  ...,  0.0000,  0.0000,  0.0000]])"
      ]
     },
     "execution_count": 258,
     "metadata": {},
     "output_type": "execute_result"
    }
   ],
   "source": [
    "torch.flatten(embeddings, start_dim=1)"
   ]
  },
  {
   "cell_type": "code",
   "execution_count": 259,
   "metadata": {},
   "outputs": [
    {
     "data": {
      "text/plain": [
       "torch.Size([7613, 32])"
      ]
     },
     "execution_count": 259,
     "metadata": {},
     "output_type": "execute_result"
    }
   ],
   "source": [
    "sentences.shape"
   ]
  },
  {
   "cell_type": "markdown",
   "metadata": {},
   "source": [
    "### Now for baseline model let's use Fully Connected Network with one layer."
   ]
  },
  {
   "cell_type": "code",
   "execution_count": 260,
   "metadata": {},
   "outputs": [],
   "source": [
    "class Model(nn.Module):\n",
    "    def __init__(self) -> None:\n",
    "        super().__init__()\n",
    "        self.func = nn.Sequential(nn.Linear(32, 1),\n",
    "                                  nn.Sigmoid())\n",
    "    \n",
    "    \n",
    "    def forward(self, x):\n",
    "        return self.func(x)\n"
   ]
  },
  {
   "cell_type": "markdown",
   "metadata": {},
   "source": [
    "### Now let's create dataloader"
   ]
  },
  {
   "cell_type": "code",
   "execution_count": 261,
   "metadata": {},
   "outputs": [],
   "source": [
    "from sklearn.model_selection import train_test_split\n",
    "\n",
    "X_train, X_val, y_tr, y_val = train_test_split(sentences, y_train, test_size=0.3, random_state=1)"
   ]
  },
  {
   "cell_type": "code",
   "execution_count": 262,
   "metadata": {},
   "outputs": [],
   "source": [
    "from dataset import Data_Set\n",
    "\n",
    "trainset = Data_Set(X_train, y_tr)\n",
    "trainloader = DataLoader(dataset=trainset, batch_size=4, shuffle=True, num_workers=1)\n",
    "valset = Data_Set(X_val, y_val)\n",
    "valloader = DataLoader(dataset=valset, batch_size=4, shuffle=False, num_workers=1)"
   ]
  },
  {
   "cell_type": "code",
   "execution_count": 263,
   "metadata": {},
   "outputs": [
    {
     "data": {
      "text/plain": [
       "(torch.Size([5329, 32]), torch.Size([5329]))"
      ]
     },
     "execution_count": 263,
     "metadata": {},
     "output_type": "execute_result"
    }
   ],
   "source": [
    "X_train.shape, y_tr.shape"
   ]
  },
  {
   "cell_type": "code",
   "execution_count": 264,
   "metadata": {},
   "outputs": [],
   "source": [
    "device = torch.device('mps')"
   ]
  },
  {
   "cell_type": "code",
   "execution_count": 265,
   "metadata": {},
   "outputs": [
    {
     "name": "stderr",
     "output_type": "stream",
     "text": [
      "/Users/antonzaburskiy/Desktop/Python/DisasterNLP/dataset.py:11: UserWarning: To copy construct from a tensor, it is recommended to use sourceTensor.clone().detach() or sourceTensor.clone().detach().requires_grad_(True), rather than torch.tensor(sourceTensor).\n",
      "  return torch.tensor(self.x[index], dtype=torch.float32), torch.tensor(self.y[index], dtype=torch.float32)\n",
      "/Users/antonzaburskiy/Desktop/Python/DisasterNLP/dataset.py:11: UserWarning: To copy construct from a tensor, it is recommended to use sourceTensor.clone().detach() or sourceTensor.clone().detach().requires_grad_(True), rather than torch.tensor(sourceTensor).\n",
      "  return torch.tensor(self.x[index], dtype=torch.float32), torch.tensor(self.y[index], dtype=torch.float32)\n"
     ]
    },
    {
     "name": "stdout",
     "output_type": "stream",
     "text": [
      "Epoch 1/10\n",
      " Train Loss: 0.6899243285467279, Train Accuracy: 0.5912929255019703\n",
      " Validation Loss: 0.8247858805487327, Validation Accuracy: 0.47591943957968474\n",
      "\n"
     ]
    },
    {
     "name": "stderr",
     "output_type": "stream",
     "text": [
      "/Users/antonzaburskiy/Desktop/Python/DisasterNLP/dataset.py:11: UserWarning: To copy construct from a tensor, it is recommended to use sourceTensor.clone().detach() or sourceTensor.clone().detach().requires_grad_(True), rather than torch.tensor(sourceTensor).\n",
      "  return torch.tensor(self.x[index], dtype=torch.float32), torch.tensor(self.y[index], dtype=torch.float32)\n",
      "/Users/antonzaburskiy/Desktop/Python/DisasterNLP/dataset.py:11: UserWarning: To copy construct from a tensor, it is recommended to use sourceTensor.clone().detach() or sourceTensor.clone().detach().requires_grad_(True), rather than torch.tensor(sourceTensor).\n",
      "  return torch.tensor(self.x[index], dtype=torch.float32), torch.tensor(self.y[index], dtype=torch.float32)\n"
     ]
    },
    {
     "name": "stdout",
     "output_type": "stream",
     "text": [
      "Epoch 2/10\n",
      " Train Loss: 0.6830837006575169, Train Accuracy: 0.5984237192719084\n",
      " Validation Loss: 0.656303315467467, Validation Accuracy: 0.5814360770577933\n",
      "\n"
     ]
    },
    {
     "name": "stderr",
     "output_type": "stream",
     "text": [
      "/Users/antonzaburskiy/Desktop/Python/DisasterNLP/dataset.py:11: UserWarning: To copy construct from a tensor, it is recommended to use sourceTensor.clone().detach() or sourceTensor.clone().detach().requires_grad_(True), rather than torch.tensor(sourceTensor).\n",
      "  return torch.tensor(self.x[index], dtype=torch.float32), torch.tensor(self.y[index], dtype=torch.float32)\n",
      "/Users/antonzaburskiy/Desktop/Python/DisasterNLP/dataset.py:11: UserWarning: To copy construct from a tensor, it is recommended to use sourceTensor.clone().detach() or sourceTensor.clone().detach().requires_grad_(True), rather than torch.tensor(sourceTensor).\n",
      "  return torch.tensor(self.x[index], dtype=torch.float32), torch.tensor(self.y[index], dtype=torch.float32)\n"
     ]
    },
    {
     "name": "stdout",
     "output_type": "stream",
     "text": [
      "Epoch 3/10\n",
      " Train Loss: 0.6730989647801443, Train Accuracy: 0.6049915556389567\n",
      " Validation Loss: 0.643688562141826, Validation Accuracy: 0.6037653239929948\n",
      "\n"
     ]
    },
    {
     "name": "stderr",
     "output_type": "stream",
     "text": [
      "/Users/antonzaburskiy/Desktop/Python/DisasterNLP/dataset.py:11: UserWarning: To copy construct from a tensor, it is recommended to use sourceTensor.clone().detach() or sourceTensor.clone().detach().requires_grad_(True), rather than torch.tensor(sourceTensor).\n",
      "  return torch.tensor(self.x[index], dtype=torch.float32), torch.tensor(self.y[index], dtype=torch.float32)\n",
      "/Users/antonzaburskiy/Desktop/Python/DisasterNLP/dataset.py:11: UserWarning: To copy construct from a tensor, it is recommended to use sourceTensor.clone().detach() or sourceTensor.clone().detach().requires_grad_(True), rather than torch.tensor(sourceTensor).\n",
      "  return torch.tensor(self.x[index], dtype=torch.float32), torch.tensor(self.y[index], dtype=torch.float32)\n"
     ]
    },
    {
     "name": "stdout",
     "output_type": "stream",
     "text": [
      "Epoch 4/10\n",
      " Train Loss: 0.668850542255031, Train Accuracy: 0.6066804278476262\n",
      " Validation Loss: 0.6344757000222515, Validation Accuracy: 0.6212784588441331\n",
      "\n"
     ]
    },
    {
     "name": "stderr",
     "output_type": "stream",
     "text": [
      "/Users/antonzaburskiy/Desktop/Python/DisasterNLP/dataset.py:11: UserWarning: To copy construct from a tensor, it is recommended to use sourceTensor.clone().detach() or sourceTensor.clone().detach().requires_grad_(True), rather than torch.tensor(sourceTensor).\n",
      "  return torch.tensor(self.x[index], dtype=torch.float32), torch.tensor(self.y[index], dtype=torch.float32)\n",
      "/Users/antonzaburskiy/Desktop/Python/DisasterNLP/dataset.py:11: UserWarning: To copy construct from a tensor, it is recommended to use sourceTensor.clone().detach() or sourceTensor.clone().detach().requires_grad_(True), rather than torch.tensor(sourceTensor).\n",
      "  return torch.tensor(self.x[index], dtype=torch.float32), torch.tensor(self.y[index], dtype=torch.float32)\n"
     ]
    },
    {
     "name": "stdout",
     "output_type": "stream",
     "text": [
      "Epoch 5/10\n",
      " Train Loss: 0.665422772498213, Train Accuracy: 0.6100581722649653\n",
      " Validation Loss: 0.6250377348550773, Validation Accuracy: 0.6536777583187391\n",
      "\n"
     ]
    },
    {
     "name": "stderr",
     "output_type": "stream",
     "text": [
      "/Users/antonzaburskiy/Desktop/Python/DisasterNLP/dataset.py:11: UserWarning: To copy construct from a tensor, it is recommended to use sourceTensor.clone().detach() or sourceTensor.clone().detach().requires_grad_(True), rather than torch.tensor(sourceTensor).\n",
      "  return torch.tensor(self.x[index], dtype=torch.float32), torch.tensor(self.y[index], dtype=torch.float32)\n",
      "/Users/antonzaburskiy/Desktop/Python/DisasterNLP/dataset.py:11: UserWarning: To copy construct from a tensor, it is recommended to use sourceTensor.clone().detach() or sourceTensor.clone().detach().requires_grad_(True), rather than torch.tensor(sourceTensor).\n",
      "  return torch.tensor(self.x[index], dtype=torch.float32), torch.tensor(self.y[index], dtype=torch.float32)\n"
     ]
    },
    {
     "name": "stdout",
     "output_type": "stream",
     "text": [
      "Epoch 6/10\n",
      " Train Loss: 0.672388209897776, Train Accuracy: 0.6018014636892475\n",
      " Validation Loss: 0.6525843670092615, Validation Accuracy: 0.6427320490367776\n",
      "\n"
     ]
    },
    {
     "name": "stderr",
     "output_type": "stream",
     "text": [
      "/Users/antonzaburskiy/Desktop/Python/DisasterNLP/dataset.py:11: UserWarning: To copy construct from a tensor, it is recommended to use sourceTensor.clone().detach() or sourceTensor.clone().detach().requires_grad_(True), rather than torch.tensor(sourceTensor).\n",
      "  return torch.tensor(self.x[index], dtype=torch.float32), torch.tensor(self.y[index], dtype=torch.float32)\n",
      "/Users/antonzaburskiy/Desktop/Python/DisasterNLP/dataset.py:11: UserWarning: To copy construct from a tensor, it is recommended to use sourceTensor.clone().detach() or sourceTensor.clone().detach().requires_grad_(True), rather than torch.tensor(sourceTensor).\n",
      "  return torch.tensor(self.x[index], dtype=torch.float32), torch.tensor(self.y[index], dtype=torch.float32)\n"
     ]
    },
    {
     "name": "stdout",
     "output_type": "stream",
     "text": [
      "Epoch 7/10\n",
      " Train Loss: 0.6611807346232208, Train Accuracy: 0.6211296678551324\n",
      " Validation Loss: 0.6231088331670561, Validation Accuracy: 0.6370402802101576\n",
      "\n"
     ]
    },
    {
     "name": "stderr",
     "output_type": "stream",
     "text": [
      "/Users/antonzaburskiy/Desktop/Python/DisasterNLP/dataset.py:11: UserWarning: To copy construct from a tensor, it is recommended to use sourceTensor.clone().detach() or sourceTensor.clone().detach().requires_grad_(True), rather than torch.tensor(sourceTensor).\n",
      "  return torch.tensor(self.x[index], dtype=torch.float32), torch.tensor(self.y[index], dtype=torch.float32)\n",
      "/Users/antonzaburskiy/Desktop/Python/DisasterNLP/dataset.py:11: UserWarning: To copy construct from a tensor, it is recommended to use sourceTensor.clone().detach() or sourceTensor.clone().detach().requires_grad_(True), rather than torch.tensor(sourceTensor).\n",
      "  return torch.tensor(self.x[index], dtype=torch.float32), torch.tensor(self.y[index], dtype=torch.float32)\n"
     ]
    },
    {
     "name": "stdout",
     "output_type": "stream",
     "text": [
      "Epoch 8/10\n",
      " Train Loss: 0.6554356497745271, Train Accuracy: 0.6237568024019516\n",
      " Validation Loss: 0.6338191603011927, Validation Accuracy: 0.6164623467600701\n",
      "\n"
     ]
    },
    {
     "name": "stderr",
     "output_type": "stream",
     "text": [
      "/Users/antonzaburskiy/Desktop/Python/DisasterNLP/dataset.py:11: UserWarning: To copy construct from a tensor, it is recommended to use sourceTensor.clone().detach() or sourceTensor.clone().detach().requires_grad_(True), rather than torch.tensor(sourceTensor).\n",
      "  return torch.tensor(self.x[index], dtype=torch.float32), torch.tensor(self.y[index], dtype=torch.float32)\n",
      "/Users/antonzaburskiy/Desktop/Python/DisasterNLP/dataset.py:11: UserWarning: To copy construct from a tensor, it is recommended to use sourceTensor.clone().detach() or sourceTensor.clone().detach().requires_grad_(True), rather than torch.tensor(sourceTensor).\n",
      "  return torch.tensor(self.x[index], dtype=torch.float32), torch.tensor(self.y[index], dtype=torch.float32)\n"
     ]
    },
    {
     "name": "stdout",
     "output_type": "stream",
     "text": [
      "Epoch 9/10\n",
      " Train Loss: 0.6543064189534034, Train Accuracy: 0.6200037530493526\n",
      " Validation Loss: 0.6293090507779564, Validation Accuracy: 0.6563047285464098\n",
      "\n"
     ]
    },
    {
     "name": "stderr",
     "output_type": "stream",
     "text": [
      "/Users/antonzaburskiy/Desktop/Python/DisasterNLP/dataset.py:11: UserWarning: To copy construct from a tensor, it is recommended to use sourceTensor.clone().detach() or sourceTensor.clone().detach().requires_grad_(True), rather than torch.tensor(sourceTensor).\n",
      "  return torch.tensor(self.x[index], dtype=torch.float32), torch.tensor(self.y[index], dtype=torch.float32)\n",
      "/Users/antonzaburskiy/Desktop/Python/DisasterNLP/dataset.py:11: UserWarning: To copy construct from a tensor, it is recommended to use sourceTensor.clone().detach() or sourceTensor.clone().detach().requires_grad_(True), rather than torch.tensor(sourceTensor).\n",
      "  return torch.tensor(self.x[index], dtype=torch.float32), torch.tensor(self.y[index], dtype=torch.float32)\n"
     ]
    },
    {
     "name": "stdout",
     "output_type": "stream",
     "text": [
      "Epoch 10/10\n",
      " Train Loss: 0.6526512980729409, Train Accuracy: 0.6233814974666917\n",
      " Validation Loss: 0.6300559643062318, Validation Accuracy: 0.6322241681260946\n",
      "\n"
     ]
    }
   ],
   "source": [
    "def train_epoch(model, optimizer, train_loader, criterion):\n",
    "    model.train()\n",
    "    loss_log = []\n",
    "    correct = 0\n",
    "    total = 0\n",
    "\n",
    "    for data, target in train_loader:\n",
    "        data, target = data.to(device), target.to(device)\n",
    "\n",
    "        optimizer.zero_grad()\n",
    "        outputs = model(data)\n",
    "        loss = criterion(outputs, target.view(-1, 1))\n",
    "        loss.backward()\n",
    "        optimizer.step()\n",
    "        pred = (outputs >= 0.5).float()\n",
    "        correct += (pred == target.view_as(pred)).sum().item()\n",
    "        total += target.size(0)\n",
    "\n",
    "        loss_log.append(loss.item())\n",
    "\n",
    "    accuracy = correct / total\n",
    "    return loss_log, accuracy\n",
    "\n",
    "# Функция тестирования на валидационной выборке\n",
    "def evaluate(model, val_loader, criterion):\n",
    "    model.eval()\n",
    "    loss_log = []\n",
    "    correct = 0\n",
    "    total = 0\n",
    "\n",
    "    for data, target in val_loader:\n",
    "        data, target = data.to(device), target.to(device)\n",
    "\n",
    "        outputs = model(data)\n",
    "        loss = criterion(outputs, target.view(-1, 1))\n",
    "        pred = (outputs >= 0.5).float()\n",
    "\n",
    "        correct += (pred == target.view_as(pred)).sum().item()\n",
    "        total += target.size(0)\n",
    "\n",
    "        loss_log.append(loss.item())\n",
    "\n",
    "    accuracy = correct / total\n",
    "    return np.mean(loss_log), accuracy\n",
    "\n",
    "\n",
    "fnmodel = Model()\n",
    "fnmodel = fnmodel.to(device)\n",
    "optimizer = torch.optim.Adam(fnmodel.parameters(), lr=0.001)\n",
    "criterion = nn.BCELoss()\n",
    "\n",
    "for epoch in range(10):\n",
    "    train_loss, train_accuracy = train_epoch(fnmodel, optimizer, trainloader, criterion)\n",
    "    val_loss, val_accuracy = evaluate(fnmodel, valloader, criterion)\n",
    "\n",
    "    print(f\"Epoch {epoch + 1}/{10}\")\n",
    "    print(f\" Train Loss: {np.mean(train_loss)}, Train Accuracy: {train_accuracy}\")\n",
    "    print(f\" Validation Loss: {val_loss}, Validation Accuracy: {val_accuracy}\\n\")"
   ]
  },
  {
   "cell_type": "markdown",
   "metadata": {},
   "source": [
    "### Now let's try using RNN"
   ]
  },
  {
   "cell_type": "code",
   "execution_count": 266,
   "metadata": {},
   "outputs": [],
   "source": [
    "from sklearn.model_selection import train_test_split\n",
    "\n",
    "X_train, X_val, y_tr, y_val = train_test_split(embeddings, y_train, test_size=0.3, random_state=1)"
   ]
  },
  {
   "cell_type": "code",
   "execution_count": 267,
   "metadata": {},
   "outputs": [],
   "source": [
    "from dataset import Data_Set\n",
    "\n",
    "trainset = Data_Set(X_train, y_tr)\n",
    "trainloader = DataLoader(dataset=trainset, batch_size=4, shuffle=True, num_workers=1)\n",
    "valset = Data_Set(X_val, y_val)\n",
    "valloader = DataLoader(dataset=valset, batch_size=4, shuffle=False, num_workers=1)"
   ]
  },
  {
   "cell_type": "code",
   "execution_count": 268,
   "metadata": {},
   "outputs": [
    {
     "name": "stderr",
     "output_type": "stream",
     "text": [
      "/Users/antonzaburskiy/Desktop/Python/DisasterNLP/dataset.py:11: UserWarning: To copy construct from a tensor, it is recommended to use sourceTensor.clone().detach() or sourceTensor.clone().detach().requires_grad_(True), rather than torch.tensor(sourceTensor).\n",
      "  return torch.tensor(self.x[index], dtype=torch.float32), torch.tensor(self.y[index], dtype=torch.float32)\n",
      "/Users/antonzaburskiy/Desktop/Python/DisasterNLP/dataset.py:11: UserWarning: To copy construct from a tensor, it is recommended to use sourceTensor.clone().detach() or sourceTensor.clone().detach().requires_grad_(True), rather than torch.tensor(sourceTensor).\n",
      "  return torch.tensor(self.x[index], dtype=torch.float32), torch.tensor(self.y[index], dtype=torch.float32)\n"
     ]
    },
    {
     "name": "stdout",
     "output_type": "stream",
     "text": [
      "Epoch 1/10, Validation Loss: 0.6680236078289887, Validation Accuracy: 0.580122591943958\n"
     ]
    },
    {
     "name": "stderr",
     "output_type": "stream",
     "text": [
      "/Users/antonzaburskiy/Desktop/Python/DisasterNLP/dataset.py:11: UserWarning: To copy construct from a tensor, it is recommended to use sourceTensor.clone().detach() or sourceTensor.clone().detach().requires_grad_(True), rather than torch.tensor(sourceTensor).\n",
      "  return torch.tensor(self.x[index], dtype=torch.float32), torch.tensor(self.y[index], dtype=torch.float32)\n",
      "/Users/antonzaburskiy/Desktop/Python/DisasterNLP/dataset.py:11: UserWarning: To copy construct from a tensor, it is recommended to use sourceTensor.clone().detach() or sourceTensor.clone().detach().requires_grad_(True), rather than torch.tensor(sourceTensor).\n",
      "  return torch.tensor(self.x[index], dtype=torch.float32), torch.tensor(self.y[index], dtype=torch.float32)\n"
     ]
    },
    {
     "name": "stdout",
     "output_type": "stream",
     "text": [
      "Epoch 2/10, Validation Loss: 0.6408007557776262, Validation Accuracy: 0.6313485113835376\n"
     ]
    },
    {
     "name": "stderr",
     "output_type": "stream",
     "text": [
      "/Users/antonzaburskiy/Desktop/Python/DisasterNLP/dataset.py:11: UserWarning: To copy construct from a tensor, it is recommended to use sourceTensor.clone().detach() or sourceTensor.clone().detach().requires_grad_(True), rather than torch.tensor(sourceTensor).\n",
      "  return torch.tensor(self.x[index], dtype=torch.float32), torch.tensor(self.y[index], dtype=torch.float32)\n",
      "/Users/antonzaburskiy/Desktop/Python/DisasterNLP/dataset.py:11: UserWarning: To copy construct from a tensor, it is recommended to use sourceTensor.clone().detach() or sourceTensor.clone().detach().requires_grad_(True), rather than torch.tensor(sourceTensor).\n",
      "  return torch.tensor(self.x[index], dtype=torch.float32), torch.tensor(self.y[index], dtype=torch.float32)\n"
     ]
    },
    {
     "name": "stdout",
     "output_type": "stream",
     "text": [
      "Epoch 3/10, Validation Loss: 0.6068139616954557, Validation Accuracy: 0.6781961471103327\n"
     ]
    },
    {
     "name": "stderr",
     "output_type": "stream",
     "text": [
      "/Users/antonzaburskiy/Desktop/Python/DisasterNLP/dataset.py:11: UserWarning: To copy construct from a tensor, it is recommended to use sourceTensor.clone().detach() or sourceTensor.clone().detach().requires_grad_(True), rather than torch.tensor(sourceTensor).\n",
      "  return torch.tensor(self.x[index], dtype=torch.float32), torch.tensor(self.y[index], dtype=torch.float32)\n",
      "/Users/antonzaburskiy/Desktop/Python/DisasterNLP/dataset.py:11: UserWarning: To copy construct from a tensor, it is recommended to use sourceTensor.clone().detach() or sourceTensor.clone().detach().requires_grad_(True), rather than torch.tensor(sourceTensor).\n",
      "  return torch.tensor(self.x[index], dtype=torch.float32), torch.tensor(self.y[index], dtype=torch.float32)\n"
     ]
    },
    {
     "name": "stdout",
     "output_type": "stream",
     "text": [
      "Epoch 4/10, Validation Loss: 0.5869903116113458, Validation Accuracy: 0.7035901926444834\n"
     ]
    },
    {
     "name": "stderr",
     "output_type": "stream",
     "text": [
      "/Users/antonzaburskiy/Desktop/Python/DisasterNLP/dataset.py:11: UserWarning: To copy construct from a tensor, it is recommended to use sourceTensor.clone().detach() or sourceTensor.clone().detach().requires_grad_(True), rather than torch.tensor(sourceTensor).\n",
      "  return torch.tensor(self.x[index], dtype=torch.float32), torch.tensor(self.y[index], dtype=torch.float32)\n",
      "/Users/antonzaburskiy/Desktop/Python/DisasterNLP/dataset.py:11: UserWarning: To copy construct from a tensor, it is recommended to use sourceTensor.clone().detach() or sourceTensor.clone().detach().requires_grad_(True), rather than torch.tensor(sourceTensor).\n",
      "  return torch.tensor(self.x[index], dtype=torch.float32), torch.tensor(self.y[index], dtype=torch.float32)\n"
     ]
    },
    {
     "name": "stdout",
     "output_type": "stream",
     "text": [
      "Epoch 5/10, Validation Loss: 0.5764681229762564, Validation Accuracy: 0.6939579684763573\n"
     ]
    },
    {
     "name": "stderr",
     "output_type": "stream",
     "text": [
      "/Users/antonzaburskiy/Desktop/Python/DisasterNLP/dataset.py:11: UserWarning: To copy construct from a tensor, it is recommended to use sourceTensor.clone().detach() or sourceTensor.clone().detach().requires_grad_(True), rather than torch.tensor(sourceTensor).\n",
      "  return torch.tensor(self.x[index], dtype=torch.float32), torch.tensor(self.y[index], dtype=torch.float32)\n",
      "/Users/antonzaburskiy/Desktop/Python/DisasterNLP/dataset.py:11: UserWarning: To copy construct from a tensor, it is recommended to use sourceTensor.clone().detach() or sourceTensor.clone().detach().requires_grad_(True), rather than torch.tensor(sourceTensor).\n",
      "  return torch.tensor(self.x[index], dtype=torch.float32), torch.tensor(self.y[index], dtype=torch.float32)\n"
     ]
    },
    {
     "name": "stdout",
     "output_type": "stream",
     "text": [
      "Epoch 6/10, Validation Loss: 0.5775245521511171, Validation Accuracy: 0.7171628721541156\n"
     ]
    },
    {
     "name": "stderr",
     "output_type": "stream",
     "text": [
      "/Users/antonzaburskiy/Desktop/Python/DisasterNLP/dataset.py:11: UserWarning: To copy construct from a tensor, it is recommended to use sourceTensor.clone().detach() or sourceTensor.clone().detach().requires_grad_(True), rather than torch.tensor(sourceTensor).\n",
      "  return torch.tensor(self.x[index], dtype=torch.float32), torch.tensor(self.y[index], dtype=torch.float32)\n",
      "/Users/antonzaburskiy/Desktop/Python/DisasterNLP/dataset.py:11: UserWarning: To copy construct from a tensor, it is recommended to use sourceTensor.clone().detach() or sourceTensor.clone().detach().requires_grad_(True), rather than torch.tensor(sourceTensor).\n",
      "  return torch.tensor(self.x[index], dtype=torch.float32), torch.tensor(self.y[index], dtype=torch.float32)\n"
     ]
    },
    {
     "name": "stdout",
     "output_type": "stream",
     "text": [
      "Epoch 7/10, Validation Loss: 0.566845964555565, Validation Accuracy: 0.718476357267951\n"
     ]
    },
    {
     "name": "stderr",
     "output_type": "stream",
     "text": [
      "/Users/antonzaburskiy/Desktop/Python/DisasterNLP/dataset.py:11: UserWarning: To copy construct from a tensor, it is recommended to use sourceTensor.clone().detach() or sourceTensor.clone().detach().requires_grad_(True), rather than torch.tensor(sourceTensor).\n",
      "  return torch.tensor(self.x[index], dtype=torch.float32), torch.tensor(self.y[index], dtype=torch.float32)\n",
      "/Users/antonzaburskiy/Desktop/Python/DisasterNLP/dataset.py:11: UserWarning: To copy construct from a tensor, it is recommended to use sourceTensor.clone().detach() or sourceTensor.clone().detach().requires_grad_(True), rather than torch.tensor(sourceTensor).\n",
      "  return torch.tensor(self.x[index], dtype=torch.float32), torch.tensor(self.y[index], dtype=torch.float32)\n"
     ]
    },
    {
     "name": "stdout",
     "output_type": "stream",
     "text": [
      "Epoch 8/10, Validation Loss: 0.5566955883636575, Validation Accuracy: 0.7171628721541156\n"
     ]
    },
    {
     "name": "stderr",
     "output_type": "stream",
     "text": [
      "/Users/antonzaburskiy/Desktop/Python/DisasterNLP/dataset.py:11: UserWarning: To copy construct from a tensor, it is recommended to use sourceTensor.clone().detach() or sourceTensor.clone().detach().requires_grad_(True), rather than torch.tensor(sourceTensor).\n",
      "  return torch.tensor(self.x[index], dtype=torch.float32), torch.tensor(self.y[index], dtype=torch.float32)\n",
      "/Users/antonzaburskiy/Desktop/Python/DisasterNLP/dataset.py:11: UserWarning: To copy construct from a tensor, it is recommended to use sourceTensor.clone().detach() or sourceTensor.clone().detach().requires_grad_(True), rather than torch.tensor(sourceTensor).\n",
      "  return torch.tensor(self.x[index], dtype=torch.float32), torch.tensor(self.y[index], dtype=torch.float32)\n"
     ]
    },
    {
     "name": "stdout",
     "output_type": "stream",
     "text": [
      "Epoch 9/10, Validation Loss: 0.5656519827095305, Validation Accuracy: 0.7193520140105079\n"
     ]
    },
    {
     "name": "stderr",
     "output_type": "stream",
     "text": [
      "/Users/antonzaburskiy/Desktop/Python/DisasterNLP/dataset.py:11: UserWarning: To copy construct from a tensor, it is recommended to use sourceTensor.clone().detach() or sourceTensor.clone().detach().requires_grad_(True), rather than torch.tensor(sourceTensor).\n",
      "  return torch.tensor(self.x[index], dtype=torch.float32), torch.tensor(self.y[index], dtype=torch.float32)\n",
      "/Users/antonzaburskiy/Desktop/Python/DisasterNLP/dataset.py:11: UserWarning: To copy construct from a tensor, it is recommended to use sourceTensor.clone().detach() or sourceTensor.clone().detach().requires_grad_(True), rather than torch.tensor(sourceTensor).\n",
      "  return torch.tensor(self.x[index], dtype=torch.float32), torch.tensor(self.y[index], dtype=torch.float32)\n"
     ]
    },
    {
     "name": "stdout",
     "output_type": "stream",
     "text": [
      "Epoch 10/10, Validation Loss: 0.5434286437550275, Validation Accuracy: 0.728984238178634\n"
     ]
    }
   ],
   "source": [
    "import torch\n",
    "import torch.nn as nn\n",
    "from torch.utils.data import Dataset\n",
    "\n",
    "\n",
    "class LSTMClassifier(nn.Module):\n",
    "    def __init__(self, input_size, hidden_size, output_size):\n",
    "        super(LSTMClassifier, self).__init__()\n",
    "        self.lstm = nn.LSTM(input_size, hidden_size, batch_first=True)\n",
    "        self.fc  = nn.Linear(hidden_size, output_size)\n",
    "        self.sigmoid = nn.Sigmoid()\n",
    "\n",
    "    def forward(self, x):\n",
    "        lstm_out, _ = self.lstm(x)\n",
    "        last_hidden_state = lstm_out[:, -1, :]\n",
    "        logits = self.fc(last_hidden_state)\n",
    "        return self.sigmoid(logits)\n",
    "\n",
    "\n",
    "\n",
    "input_size = X_train.shape[2]\n",
    "hidden_size = 64\n",
    "output_size = 1\n",
    "learning_rate = 0.003\n",
    "epochs = 10\n",
    "\n",
    "model = LSTMClassifier(input_size, hidden_size, output_size)\n",
    "criterion = nn.BCELoss()\n",
    "optimizer = torch.optim.Adam(model.parameters(), lr=learning_rate)\n",
    "\n",
    "for epoch in range(epochs):\n",
    "    model.train()\n",
    "    for data, target in trainloader:\n",
    "        optimizer.zero_grad()\n",
    "        output = model(data)\n",
    "        output = torch.flatten(output)\n",
    "        loss = criterion(output, target)\n",
    "        loss.backward()\n",
    "        optimizer.step()\n",
    "    model.eval()\n",
    "    with torch.no_grad():\n",
    "        val_loss = 0\n",
    "        correct = 0\n",
    "        total = 0\n",
    "        for data, target in valloader:\n",
    "            output = torch.flatten(model(data))\n",
    "            val_loss += criterion(output, target).item()\n",
    "            predicted = (output >= 0.5).float()\n",
    "            correct += (predicted == target).sum().item()\n",
    "            total += target.size(0)\n",
    "\n",
    "        val_accuracy = correct / total\n",
    "        avg_val_loss = val_loss / len(valloader)\n",
    "\n",
    "    print(f\"Epoch {epoch + 1}/{epochs}, Validation Loss: {avg_val_loss}, Validation Accuracy: {val_accuracy}\")\n"
   ]
  },
  {
   "cell_type": "markdown",
   "metadata": {},
   "source": [
    "As we can see the validation accuracy improved."
   ]
  },
  {
   "cell_type": "markdown",
   "metadata": {},
   "source": [
    "### The main problem with the approach above is that I did not use pretrained embeddings for the task. Now I'm going to utilize pretrained word2vec embeddings. "
   ]
  },
  {
   "cell_type": "code",
   "execution_count": 269,
   "metadata": {},
   "outputs": [],
   "source": [
    "import gensim.downloader as api\n",
    "\n",
    "pretrained = Word2Vec(api.load(\"text8\"))"
   ]
  },
  {
   "cell_type": "code",
   "execution_count": 270,
   "metadata": {},
   "outputs": [],
   "source": [
    "pretrained = pretrained.wv"
   ]
  },
  {
   "cell_type": "code",
   "execution_count": 271,
   "metadata": {},
   "outputs": [],
   "source": [
    "def f(sentence):\n",
    "    out = []\n",
    "    for word in sentence:\n",
    "        if word in pretrained.key_to_index:\n",
    "            out.append(pretrained[word])\n",
    "        else:\n",
    "            out.append(np.zeros_like(pretrained['word']))\n",
    "    while len(out) < 34:\n",
    "        out.append(np.zeros_like(pretrained['word']))\n",
    "    out = np.array(out)\n",
    "    return out"
   ]
  },
  {
   "cell_type": "code",
   "execution_count": 272,
   "metadata": {},
   "outputs": [],
   "source": [
    "data_train['pretrained'] = data_train['text'].apply(lambda x: f(x))"
   ]
  },
  {
   "cell_type": "code",
   "execution_count": 273,
   "metadata": {},
   "outputs": [],
   "source": [
    "new = list()\n",
    "for i in range(0, len(data_train['pretrained'])):\n",
    "    new.append(data_train['pretrained'].iloc[i])\n",
    "train = np.array(new)\n",
    "y_train = torch.tensor(data_train['target'])"
   ]
  },
  {
   "cell_type": "code",
   "execution_count": 274,
   "metadata": {},
   "outputs": [],
   "source": [
    "from sklearn.model_selection import train_test_split\n",
    "\n",
    "X_train, X_val, y_tr, y_val = train_test_split(train, y_train, test_size=0.3, random_state=1, stratify=y_train)"
   ]
  },
  {
   "cell_type": "code",
   "execution_count": 275,
   "metadata": {},
   "outputs": [],
   "source": [
    "from dataset import Data_Set\n",
    "\n",
    "trainset = Data_Set(X_train, y_tr)\n",
    "trainloader = DataLoader(dataset=trainset, batch_size=4, shuffle=True, num_workers=1)\n",
    "valset = Data_Set(X_val, y_val)\n",
    "valloader = DataLoader(dataset=valset, batch_size=4, shuffle=False, num_workers=1)"
   ]
  },
  {
   "cell_type": "code",
   "execution_count": 276,
   "metadata": {},
   "outputs": [
    {
     "name": "stderr",
     "output_type": "stream",
     "text": [
      "/Users/antonzaburskiy/Desktop/Python/DisasterNLP/dataset.py:11: UserWarning: To copy construct from a tensor, it is recommended to use sourceTensor.clone().detach() or sourceTensor.clone().detach().requires_grad_(True), rather than torch.tensor(sourceTensor).\n",
      "  return torch.tensor(self.x[index], dtype=torch.float32), torch.tensor(self.y[index], dtype=torch.float32)\n",
      "/Users/antonzaburskiy/Desktop/Python/DisasterNLP/dataset.py:11: UserWarning: To copy construct from a tensor, it is recommended to use sourceTensor.clone().detach() or sourceTensor.clone().detach().requires_grad_(True), rather than torch.tensor(sourceTensor).\n",
      "  return torch.tensor(self.x[index], dtype=torch.float32), torch.tensor(self.y[index], dtype=torch.float32)\n"
     ]
    },
    {
     "name": "stdout",
     "output_type": "stream",
     "text": [
      "Epoch 1/10, Validation Loss: 0.683962493665164, Validation Accuracy: 0.5704903677758318\n"
     ]
    },
    {
     "name": "stderr",
     "output_type": "stream",
     "text": [
      "/Users/antonzaburskiy/Desktop/Python/DisasterNLP/dataset.py:11: UserWarning: To copy construct from a tensor, it is recommended to use sourceTensor.clone().detach() or sourceTensor.clone().detach().requires_grad_(True), rather than torch.tensor(sourceTensor).\n",
      "  return torch.tensor(self.x[index], dtype=torch.float32), torch.tensor(self.y[index], dtype=torch.float32)\n",
      "/Users/antonzaburskiy/Desktop/Python/DisasterNLP/dataset.py:11: UserWarning: To copy construct from a tensor, it is recommended to use sourceTensor.clone().detach() or sourceTensor.clone().detach().requires_grad_(True), rather than torch.tensor(sourceTensor).\n",
      "  return torch.tensor(self.x[index], dtype=torch.float32), torch.tensor(self.y[index], dtype=torch.float32)\n"
     ]
    },
    {
     "name": "stdout",
     "output_type": "stream",
     "text": [
      "Epoch 2/10, Validation Loss: 0.6375084827848158, Validation Accuracy: 0.6742556917688266\n"
     ]
    },
    {
     "name": "stderr",
     "output_type": "stream",
     "text": [
      "/Users/antonzaburskiy/Desktop/Python/DisasterNLP/dataset.py:11: UserWarning: To copy construct from a tensor, it is recommended to use sourceTensor.clone().detach() or sourceTensor.clone().detach().requires_grad_(True), rather than torch.tensor(sourceTensor).\n",
      "  return torch.tensor(self.x[index], dtype=torch.float32), torch.tensor(self.y[index], dtype=torch.float32)\n",
      "/Users/antonzaburskiy/Desktop/Python/DisasterNLP/dataset.py:11: UserWarning: To copy construct from a tensor, it is recommended to use sourceTensor.clone().detach() or sourceTensor.clone().detach().requires_grad_(True), rather than torch.tensor(sourceTensor).\n",
      "  return torch.tensor(self.x[index], dtype=torch.float32), torch.tensor(self.y[index], dtype=torch.float32)\n"
     ]
    },
    {
     "name": "stdout",
     "output_type": "stream",
     "text": [
      "Epoch 3/10, Validation Loss: 0.5454480922577051, Validation Accuracy: 0.7434325744308231\n"
     ]
    },
    {
     "name": "stderr",
     "output_type": "stream",
     "text": [
      "/Users/antonzaburskiy/Desktop/Python/DisasterNLP/dataset.py:11: UserWarning: To copy construct from a tensor, it is recommended to use sourceTensor.clone().detach() or sourceTensor.clone().detach().requires_grad_(True), rather than torch.tensor(sourceTensor).\n",
      "  return torch.tensor(self.x[index], dtype=torch.float32), torch.tensor(self.y[index], dtype=torch.float32)\n",
      "/Users/antonzaburskiy/Desktop/Python/DisasterNLP/dataset.py:11: UserWarning: To copy construct from a tensor, it is recommended to use sourceTensor.clone().detach() or sourceTensor.clone().detach().requires_grad_(True), rather than torch.tensor(sourceTensor).\n",
      "  return torch.tensor(self.x[index], dtype=torch.float32), torch.tensor(self.y[index], dtype=torch.float32)\n"
     ]
    },
    {
     "name": "stdout",
     "output_type": "stream",
     "text": [
      "Epoch 4/10, Validation Loss: 0.5115182388789182, Validation Accuracy: 0.7618213660245184\n"
     ]
    },
    {
     "name": "stderr",
     "output_type": "stream",
     "text": [
      "/Users/antonzaburskiy/Desktop/Python/DisasterNLP/dataset.py:11: UserWarning: To copy construct from a tensor, it is recommended to use sourceTensor.clone().detach() or sourceTensor.clone().detach().requires_grad_(True), rather than torch.tensor(sourceTensor).\n",
      "  return torch.tensor(self.x[index], dtype=torch.float32), torch.tensor(self.y[index], dtype=torch.float32)\n",
      "/Users/antonzaburskiy/Desktop/Python/DisasterNLP/dataset.py:11: UserWarning: To copy construct from a tensor, it is recommended to use sourceTensor.clone().detach() or sourceTensor.clone().detach().requires_grad_(True), rather than torch.tensor(sourceTensor).\n",
      "  return torch.tensor(self.x[index], dtype=torch.float32), torch.tensor(self.y[index], dtype=torch.float32)\n"
     ]
    },
    {
     "name": "stdout",
     "output_type": "stream",
     "text": [
      "Epoch 5/10, Validation Loss: 0.4908355364474858, Validation Accuracy: 0.7828371278458844\n"
     ]
    },
    {
     "name": "stderr",
     "output_type": "stream",
     "text": [
      "/Users/antonzaburskiy/Desktop/Python/DisasterNLP/dataset.py:11: UserWarning: To copy construct from a tensor, it is recommended to use sourceTensor.clone().detach() or sourceTensor.clone().detach().requires_grad_(True), rather than torch.tensor(sourceTensor).\n",
      "  return torch.tensor(self.x[index], dtype=torch.float32), torch.tensor(self.y[index], dtype=torch.float32)\n",
      "/Users/antonzaburskiy/Desktop/Python/DisasterNLP/dataset.py:11: UserWarning: To copy construct from a tensor, it is recommended to use sourceTensor.clone().detach() or sourceTensor.clone().detach().requires_grad_(True), rather than torch.tensor(sourceTensor).\n",
      "  return torch.tensor(self.x[index], dtype=torch.float32), torch.tensor(self.y[index], dtype=torch.float32)\n"
     ]
    },
    {
     "name": "stdout",
     "output_type": "stream",
     "text": [
      "Epoch 6/10, Validation Loss: 0.49622367938324785, Validation Accuracy: 0.7740805604203153\n"
     ]
    },
    {
     "name": "stderr",
     "output_type": "stream",
     "text": [
      "/Users/antonzaburskiy/Desktop/Python/DisasterNLP/dataset.py:11: UserWarning: To copy construct from a tensor, it is recommended to use sourceTensor.clone().detach() or sourceTensor.clone().detach().requires_grad_(True), rather than torch.tensor(sourceTensor).\n",
      "  return torch.tensor(self.x[index], dtype=torch.float32), torch.tensor(self.y[index], dtype=torch.float32)\n",
      "/Users/antonzaburskiy/Desktop/Python/DisasterNLP/dataset.py:11: UserWarning: To copy construct from a tensor, it is recommended to use sourceTensor.clone().detach() or sourceTensor.clone().detach().requires_grad_(True), rather than torch.tensor(sourceTensor).\n",
      "  return torch.tensor(self.x[index], dtype=torch.float32), torch.tensor(self.y[index], dtype=torch.float32)\n"
     ]
    },
    {
     "name": "stdout",
     "output_type": "stream",
     "text": [
      "Epoch 7/10, Validation Loss: 0.5103806143140521, Validation Accuracy: 0.7727670753064798\n"
     ]
    },
    {
     "name": "stderr",
     "output_type": "stream",
     "text": [
      "/Users/antonzaburskiy/Desktop/Python/DisasterNLP/dataset.py:11: UserWarning: To copy construct from a tensor, it is recommended to use sourceTensor.clone().detach() or sourceTensor.clone().detach().requires_grad_(True), rather than torch.tensor(sourceTensor).\n",
      "  return torch.tensor(self.x[index], dtype=torch.float32), torch.tensor(self.y[index], dtype=torch.float32)\n",
      "/Users/antonzaburskiy/Desktop/Python/DisasterNLP/dataset.py:11: UserWarning: To copy construct from a tensor, it is recommended to use sourceTensor.clone().detach() or sourceTensor.clone().detach().requires_grad_(True), rather than torch.tensor(sourceTensor).\n",
      "  return torch.tensor(self.x[index], dtype=torch.float32), torch.tensor(self.y[index], dtype=torch.float32)\n"
     ]
    },
    {
     "name": "stdout",
     "output_type": "stream",
     "text": [
      "Epoch 8/10, Validation Loss: 0.5380532735087721, Validation Accuracy: 0.7609457092819615\n"
     ]
    },
    {
     "name": "stderr",
     "output_type": "stream",
     "text": [
      "/Users/antonzaburskiy/Desktop/Python/DisasterNLP/dataset.py:11: UserWarning: To copy construct from a tensor, it is recommended to use sourceTensor.clone().detach() or sourceTensor.clone().detach().requires_grad_(True), rather than torch.tensor(sourceTensor).\n",
      "  return torch.tensor(self.x[index], dtype=torch.float32), torch.tensor(self.y[index], dtype=torch.float32)\n",
      "/Users/antonzaburskiy/Desktop/Python/DisasterNLP/dataset.py:11: UserWarning: To copy construct from a tensor, it is recommended to use sourceTensor.clone().detach() or sourceTensor.clone().detach().requires_grad_(True), rather than torch.tensor(sourceTensor).\n",
      "  return torch.tensor(self.x[index], dtype=torch.float32), torch.tensor(self.y[index], dtype=torch.float32)\n"
     ]
    },
    {
     "name": "stdout",
     "output_type": "stream",
     "text": [
      "Epoch 9/10, Validation Loss: 0.5213674186694643, Validation Accuracy: 0.7705779334500875\n"
     ]
    },
    {
     "name": "stderr",
     "output_type": "stream",
     "text": [
      "/Users/antonzaburskiy/Desktop/Python/DisasterNLP/dataset.py:11: UserWarning: To copy construct from a tensor, it is recommended to use sourceTensor.clone().detach() or sourceTensor.clone().detach().requires_grad_(True), rather than torch.tensor(sourceTensor).\n",
      "  return torch.tensor(self.x[index], dtype=torch.float32), torch.tensor(self.y[index], dtype=torch.float32)\n",
      "/Users/antonzaburskiy/Desktop/Python/DisasterNLP/dataset.py:11: UserWarning: To copy construct from a tensor, it is recommended to use sourceTensor.clone().detach() or sourceTensor.clone().detach().requires_grad_(True), rather than torch.tensor(sourceTensor).\n",
      "  return torch.tensor(self.x[index], dtype=torch.float32), torch.tensor(self.y[index], dtype=torch.float32)\n"
     ]
    },
    {
     "name": "stdout",
     "output_type": "stream",
     "text": [
      "Epoch 10/10, Validation Loss: 0.55684823925801, Validation Accuracy: 0.7635726795096323\n"
     ]
    }
   ],
   "source": [
    "import torch\n",
    "import torch.nn as nn\n",
    "\n",
    "\n",
    "class LSTMClassifier(nn.Module):\n",
    "    def __init__(self, input_size, hidden_size, output_size):\n",
    "        super(LSTMClassifier, self).__init__()\n",
    "        self.lstm = nn.LSTM(input_size, hidden_size, batch_first=True)\n",
    "        self.fc  = nn.Linear(hidden_size, output_size)\n",
    "        self.sigmoid = nn.Sigmoid()\n",
    "\n",
    "    def forward(self, x):\n",
    "        lstm_out, _ = self.lstm(x)\n",
    "        last_hidden_state = lstm_out[:, -1, :]\n",
    "        logits = self.fc(last_hidden_state)\n",
    "        return self.sigmoid(logits)\n",
    "\n",
    "\n",
    "input_size = 100\n",
    "hidden_size = 64\n",
    "output_size = 1\n",
    "learning_rate = 0.003\n",
    "epochs = 10\n",
    "\n",
    "model = LSTMClassifier(input_size, hidden_size, output_size)\n",
    "criterion = nn.BCELoss()\n",
    "optimizer = torch.optim.Adam(model.parameters(), lr=learning_rate)\n",
    "\n",
    "for epoch in range(epochs):\n",
    "    model.train()\n",
    "    for data, target in trainloader:\n",
    "        optimizer.zero_grad()\n",
    "        output = model(data)\n",
    "        output = torch.flatten(output)\n",
    "        loss = criterion(output, target)\n",
    "        loss.backward()\n",
    "        optimizer.step()\n",
    "    model.eval()\n",
    "    with torch.no_grad():\n",
    "        val_loss = 0\n",
    "        correct = 0\n",
    "        total = 0\n",
    "        for data, target in valloader:\n",
    "            output = torch.flatten(model(data))\n",
    "            val_loss += criterion(output, target).item()\n",
    "            predicted = (output >= 0.5).float()\n",
    "            correct += (predicted == target).sum().item()\n",
    "            total += target.size(0)\n",
    "\n",
    "        val_accuracy = correct / total\n",
    "        avg_val_loss = val_loss / len(valloader)\n",
    "\n",
    "    print(f\"Epoch {epoch + 1}/{epochs}, Validation Loss: {avg_val_loss}, Validation Accuracy: {val_accuracy}\")\n"
   ]
  },
  {
   "cell_type": "markdown",
   "metadata": {},
   "source": [
    "### As expected RNN with pretrained embeddings showed the best accuracy on validation."
   ]
  }
 ],
 "metadata": {
  "kernelspec": {
   "display_name": "base",
   "language": "python",
   "name": "python3"
  },
  "language_info": {
   "codemirror_mode": {
    "name": "ipython",
    "version": 3
   },
   "file_extension": ".py",
   "mimetype": "text/x-python",
   "name": "python",
   "nbconvert_exporter": "python",
   "pygments_lexer": "ipython3",
   "version": "3.11.7"
  }
 },
 "nbformat": 4,
 "nbformat_minor": 2
}
